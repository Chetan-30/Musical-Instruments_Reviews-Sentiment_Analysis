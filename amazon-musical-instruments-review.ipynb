{
 "cells": [
  {
   "cell_type": "markdown",
   "metadata": {},
   "source": [
    "# Amazon Review - Machine Learning Project\n",
    "\n",
    "Myself [Chetan Gadge](https://www.linkedin.com/in/chetan-gadge-7b1090189/) along with [Shivam Parab](https://www.linkedin.com/in/shivam-parab-715b19199/) are creating an ML based 'Prediction model of helpfulness' under the mentorship of  [Mr. Rocky Jagtiani](https://www.linkedin.com/today/author/rocky-jagtiani-3b390649/). This project was done as the final project for the Advanced ML course.\n",
    "\n",
    "In this course we learned various concepts related to Machine Learning but mostly focused on Natural Language Processing (NLP). Concepts involved were text classification , summarization , LDA , LSA , Name Entity Recognition etc ...\n",
    "\n",
    "So there exist two problems in front of us :\n",
    "## Problem Statements :-\n",
    "> 1. Pre-rate the reviews on their 'helpfulness' factor.\n",
    "> 2. To test Genuinity of 'reviewText' vs 'Score'."
   ]
  },
  {
   "cell_type": "markdown",
   "metadata": {},
   "source": [
    "### Problem Statement 1 :- Pre-rate the review on their 'helpfulness' factor.\n",
    "The problem is the poor quality of Amazon reviews at the top of the forum despite the “helpfulness” rating system. The problem is that new reviews to be placed at the top of the forum, for a chance to be rated by the community. The proposed solution to this problem is to use machine learning techniques to design a system that “pre-rates” new reviews on their “helpfulness” before they are given a position at the top of the forum. This way, poor quality reviews will be more unlikely to be shown at the top of the forum, as they do not get the “freepass” because they are new. The proposed system will use a set of Amazon review data to train itself to predict a helpfulness classification (helpful, or not helpful) for new input data."
   ]
  },
  {
   "cell_type": "code",
   "execution_count": 3,
   "metadata": {
    "_cell_guid": "b1076dfc-b9ad-4769-8c92-a6c4dae69d19",
    "_uuid": "8f2839f25d086af736a60e9eeb907d3b93b6e0e5"
   },
   "outputs": [],
   "source": [
    "# These are all the modules we'll be using later. Make sure you can import them\n",
    "# before proceeding further.\n",
    "from __future__ import print_function\n",
    "import matplotlib.pyplot as plt\n",
    "import numpy as np\n",
    "import os\n",
    "import sys\n",
    "from six.moves import cPickle as pickle\n",
    "import pandas as pd\n",
    "import gzip\n",
    "import seaborn as sns\n",
    "import string\n",
    "from time import time\n",
    "import nltk\n",
    "from nltk.corpus import stopwords \n",
    "stops = set(stopwords.words(\"english\"))\n",
    "import urllib.request as tr\n",
    "#urllib.request.urlretrieve.\n",
    "\n",
    "\n",
    "from IPython.display import display # Allows the use of display() for DataFrames\n",
    "\n",
    "\n",
    "import warnings\n",
    "warnings.filterwarnings('ignore')\n",
    "FIG_SIZE = (14,8)\n",
    "# Config the matlotlib backend as plotting inline in IPython\n",
    "%matplotlib inline\n",
    "DATASET_NAME ='reviews_Musical_Instruments.json.gz'\n",
    "#Random state for classifiers\n",
    "RAN_STATE = 42"
   ]
  },
  {
   "cell_type": "code",
   "execution_count": 4,
   "metadata": {},
   "outputs": [
    {
     "name": "stdout",
     "output_type": "stream",
     "text": [
      "(500176, 9)\n"
     ]
    },
    {
     "data": {
      "text/html": [
       "<div>\n",
       "<style scoped>\n",
       "    .dataframe tbody tr th:only-of-type {\n",
       "        vertical-align: middle;\n",
       "    }\n",
       "\n",
       "    .dataframe tbody tr th {\n",
       "        vertical-align: top;\n",
       "    }\n",
       "\n",
       "    .dataframe thead th {\n",
       "        text-align: right;\n",
       "    }\n",
       "</style>\n",
       "<table border=\"1\" class=\"dataframe\">\n",
       "  <thead>\n",
       "    <tr style=\"text-align: right;\">\n",
       "      <th></th>\n",
       "      <th>reviewerID</th>\n",
       "      <th>asin</th>\n",
       "      <th>reviewerName</th>\n",
       "      <th>helpful</th>\n",
       "      <th>reviewText</th>\n",
       "      <th>overall</th>\n",
       "      <th>summary</th>\n",
       "      <th>unixReviewTime</th>\n",
       "      <th>reviewTime</th>\n",
       "    </tr>\n",
       "  </thead>\n",
       "  <tbody>\n",
       "    <tr>\n",
       "      <td>0</td>\n",
       "      <td>A1YS9MDZP93857</td>\n",
       "      <td>0006428320</td>\n",
       "      <td>John Taylor</td>\n",
       "      <td>[0, 0]</td>\n",
       "      <td>The portfolio is fine except for the fact that...</td>\n",
       "      <td>3</td>\n",
       "      <td>Parts missing</td>\n",
       "      <td>1394496000</td>\n",
       "      <td>03 11, 2014</td>\n",
       "    </tr>\n",
       "    <tr>\n",
       "      <td>1</td>\n",
       "      <td>A3TS466QBAWB9D</td>\n",
       "      <td>0014072149</td>\n",
       "      <td>Silver Pencil</td>\n",
       "      <td>[0, 0]</td>\n",
       "      <td>If you are a serious violin student on a budge...</td>\n",
       "      <td>5</td>\n",
       "      <td>Perform it with a friend, today!</td>\n",
       "      <td>1370476800</td>\n",
       "      <td>06 6, 2013</td>\n",
       "    </tr>\n",
       "    <tr>\n",
       "      <td>2</td>\n",
       "      <td>A3BUDYITWUSIS7</td>\n",
       "      <td>0041291905</td>\n",
       "      <td>joyce gabriel cornett</td>\n",
       "      <td>[0, 0]</td>\n",
       "      <td>This is and excellent edition and perfectly tr...</td>\n",
       "      <td>5</td>\n",
       "      <td>Vivalldi's Four Seasons</td>\n",
       "      <td>1381708800</td>\n",
       "      <td>10 14, 2013</td>\n",
       "    </tr>\n",
       "    <tr>\n",
       "      <td>3</td>\n",
       "      <td>A19K10Z0D2NTZK</td>\n",
       "      <td>0041913574</td>\n",
       "      <td>TexasCowboy</td>\n",
       "      <td>[0, 0]</td>\n",
       "      <td>Perfect for someone who is an opera fan or a w...</td>\n",
       "      <td>5</td>\n",
       "      <td>Full score: voice and orchestra</td>\n",
       "      <td>1285200000</td>\n",
       "      <td>09 23, 2010</td>\n",
       "    </tr>\n",
       "    <tr>\n",
       "      <td>4</td>\n",
       "      <td>A14X336IB4JD89</td>\n",
       "      <td>0201891859</td>\n",
       "      <td>dfjm53</td>\n",
       "      <td>[0, 1]</td>\n",
       "      <td>How many Nocturnes does it contain? All of the...</td>\n",
       "      <td>1</td>\n",
       "      <td>Unable to determine contents</td>\n",
       "      <td>1350432000</td>\n",
       "      <td>10 17, 2012</td>\n",
       "    </tr>\n",
       "  </tbody>\n",
       "</table>\n",
       "</div>"
      ],
      "text/plain": [
       "       reviewerID        asin           reviewerName helpful  \\\n",
       "0  A1YS9MDZP93857  0006428320            John Taylor  [0, 0]   \n",
       "1  A3TS466QBAWB9D  0014072149          Silver Pencil  [0, 0]   \n",
       "2  A3BUDYITWUSIS7  0041291905  joyce gabriel cornett  [0, 0]   \n",
       "3  A19K10Z0D2NTZK  0041913574            TexasCowboy  [0, 0]   \n",
       "4  A14X336IB4JD89  0201891859                 dfjm53  [0, 1]   \n",
       "\n",
       "                                          reviewText  overall  \\\n",
       "0  The portfolio is fine except for the fact that...        3   \n",
       "1  If you are a serious violin student on a budge...        5   \n",
       "2  This is and excellent edition and perfectly tr...        5   \n",
       "3  Perfect for someone who is an opera fan or a w...        5   \n",
       "4  How many Nocturnes does it contain? All of the...        1   \n",
       "\n",
       "                            summary  unixReviewTime   reviewTime  \n",
       "0                     Parts missing      1394496000  03 11, 2014  \n",
       "1  Perform it with a friend, today!      1370476800   06 6, 2013  \n",
       "2           Vivalldi's Four Seasons      1381708800  10 14, 2013  \n",
       "3   Full score: voice and orchestra      1285200000  09 23, 2010  \n",
       "4      Unable to determine contents      1350432000  10 17, 2012  "
      ]
     },
     "execution_count": 4,
     "metadata": {},
     "output_type": "execute_result"
    }
   ],
   "source": [
    "#removes extensions and adds pickle.\n",
    "pickle_file_name = (DATASET_NAME[:-8]+'.pickle')\n",
    "#pickle file is saved binary format.\n",
    "\n",
    "#loads pickle if exists, extracts and pickles if it doesn't\n",
    "if os.path.exists(pickle_file_name):\n",
    "    print ('Pickled file already present, loading...')\n",
    "    data = pd.read_pickle(pickle_file_name)\n",
    "    print ('Pickle file loaded.')\n",
    "else:\n",
    "    data = pd.read_json(\"reviews_Musical_Instruments.json\",\n",
    "                        lines=True,\n",
    "                        orient='columns')\n",
    "\n",
    "    data.to_pickle(pickle_file_name)\n",
    "print(data.shape)\n",
    "data.head()\n"
   ]
  },
  {
   "cell_type": "markdown",
   "metadata": {},
   "source": [
    "#### So here we are concerned about the column named 'helpful'. So the helpful score can be evaluated as whether the review was helpful for them or not . For e.g. [5 , 7] can be evaluated as there have been 7 total rating count out of which 5 is rated as helpful review and eventually 2 can considered as not helpful.\n",
    "#### So for the training ,  this label can be generated by dividing the ‘helpful’ ratings by the total ratings and check whether it exceeds a certain threshold value.\n",
    "#### So let's extract only those information we need for this project:\n",
    "*  The 'reviewText' will be used to generate features using natural language processing later.\n",
    "*  The 'score' will be used as a feature later for the final model but for now we keep it excluded for benchmark model.\n",
    "*  The 'helpful' rating will be used to generate our labels. We will train our model using these training labels. Predict the label using the test features, and measure the success of our model using the test labels . Will be explained in upcoming cells."
   ]
  },
  {
   "cell_type": "code",
   "execution_count": 5,
   "metadata": {},
   "outputs": [
    {
     "name": "stdout",
     "output_type": "stream",
     "text": [
      "overall                0\n",
      "reviewText             0\n",
      "helpful_numerator      0\n",
      "helpful_denominator    0\n",
      "dtype: int64\n"
     ]
    }
   ],
   "source": [
    "#select the columns\n",
    "df = data.iloc[:, [5,4,3]]\n",
    "\n",
    "#split numerator and denominator\n",
    "df['helpful_numerator'] = df['helpful'].apply(lambda x: x[0])\n",
    "df['helpful_denominator'] = df['helpful'].apply(lambda x: x[1])\n",
    "\n",
    "# delete un-needed 'helpful catagory\n",
    "del df['helpful']\n",
    "\n",
    "#Check if we have any null values\n",
    "print (df.isnull().sum())"
   ]
  },
  {
   "cell_type": "code",
   "execution_count": 6,
   "metadata": {},
   "outputs": [
    {
     "data": {
      "text/html": [
       "<div>\n",
       "<style scoped>\n",
       "    .dataframe tbody tr th:only-of-type {\n",
       "        vertical-align: middle;\n",
       "    }\n",
       "\n",
       "    .dataframe tbody tr th {\n",
       "        vertical-align: top;\n",
       "    }\n",
       "\n",
       "    .dataframe thead th {\n",
       "        text-align: right;\n",
       "    }\n",
       "</style>\n",
       "<table border=\"1\" class=\"dataframe\">\n",
       "  <thead>\n",
       "    <tr style=\"text-align: right;\">\n",
       "      <th></th>\n",
       "      <th>overall</th>\n",
       "      <th>helpful_numerator</th>\n",
       "      <th>helpful_denominator</th>\n",
       "    </tr>\n",
       "  </thead>\n",
       "  <tbody>\n",
       "    <tr>\n",
       "      <td>count</td>\n",
       "      <td>500176.000000</td>\n",
       "      <td>500176.000000</td>\n",
       "      <td>500176.000000</td>\n",
       "    </tr>\n",
       "    <tr>\n",
       "      <td>mean</td>\n",
       "      <td>4.244350</td>\n",
       "      <td>1.846428</td>\n",
       "      <td>2.378099</td>\n",
       "    </tr>\n",
       "    <tr>\n",
       "      <td>std</td>\n",
       "      <td>1.203374</td>\n",
       "      <td>7.736242</td>\n",
       "      <td>8.702799</td>\n",
       "    </tr>\n",
       "    <tr>\n",
       "      <td>min</td>\n",
       "      <td>1.000000</td>\n",
       "      <td>0.000000</td>\n",
       "      <td>0.000000</td>\n",
       "    </tr>\n",
       "    <tr>\n",
       "      <td>25%</td>\n",
       "      <td>4.000000</td>\n",
       "      <td>0.000000</td>\n",
       "      <td>0.000000</td>\n",
       "    </tr>\n",
       "    <tr>\n",
       "      <td>50%</td>\n",
       "      <td>5.000000</td>\n",
       "      <td>0.000000</td>\n",
       "      <td>0.000000</td>\n",
       "    </tr>\n",
       "    <tr>\n",
       "      <td>75%</td>\n",
       "      <td>5.000000</td>\n",
       "      <td>1.000000</td>\n",
       "      <td>2.000000</td>\n",
       "    </tr>\n",
       "    <tr>\n",
       "      <td>max</td>\n",
       "      <td>5.000000</td>\n",
       "      <td>1658.000000</td>\n",
       "      <td>1818.000000</td>\n",
       "    </tr>\n",
       "  </tbody>\n",
       "</table>\n",
       "</div>"
      ],
      "text/plain": [
       "             overall  helpful_numerator  helpful_denominator\n",
       "count  500176.000000      500176.000000        500176.000000\n",
       "mean        4.244350           1.846428             2.378099\n",
       "std         1.203374           7.736242             8.702799\n",
       "min         1.000000           0.000000             0.000000\n",
       "25%         4.000000           0.000000             0.000000\n",
       "50%         5.000000           0.000000             0.000000\n",
       "75%         5.000000           1.000000             2.000000\n",
       "max         5.000000        1658.000000          1818.000000"
      ]
     },
     "execution_count": 6,
     "metadata": {},
     "output_type": "execute_result"
    }
   ],
   "source": [
    "df.describe()"
   ]
  },
  {
   "cell_type": "markdown",
   "metadata": {},
   "source": [
    "### The amount in helpful_numerator and helpful_denominator wont matter to us much as they going to be transformed into labels later on.\n",
    "## Data Preprocessing\n",
    "* The count of helpful_denominator that has less than 10 ratings will first be trimmed out of the dataset.\n",
    "* There are huge number of reviews, and many do not face the need of people reading them . So these reviews could be good, but by chance, do not get read and rated, they will be rated negatively by our algorithms and affect negatively in our model to classify future \"good\" reviews."
   ]
  },
  {
   "cell_type": "code",
   "execution_count": 7,
   "metadata": {},
   "outputs": [
    {
     "data": {
      "text/plain": [
       "(23711, 4)"
      ]
     },
     "execution_count": 7,
     "metadata": {},
     "output_type": "execute_result"
    }
   ],
   "source": [
    "#include reviews that have more than 10 helpfulness data point only\n",
    "df1 = df[(df.helpful_denominator > 10)].copy()\n",
    "df1.shape"
   ]
  },
  {
   "cell_type": "markdown",
   "metadata": {},
   "source": [
    "### So for the labels , we need to determine whether the 'reviewText' is helpful or not. So for that we need binary classification. For that we are going to set a threshold value (0.5) of 'helpful_numerator' divided by 'helpful_denominator'. In short , the ratio of people finding it helpful over amount of people rated. If it exceeds the threshold value , we can rate it as 'helpful = 1'  else 'helpful = 0'. "
   ]
  },
  {
   "cell_type": "code",
   "execution_count": 8,
   "metadata": {},
   "outputs": [
    {
     "data": {
      "text/html": [
       "<div>\n",
       "<style scoped>\n",
       "    .dataframe tbody tr th:only-of-type {\n",
       "        vertical-align: middle;\n",
       "    }\n",
       "\n",
       "    .dataframe tbody tr th {\n",
       "        vertical-align: top;\n",
       "    }\n",
       "\n",
       "    .dataframe thead th {\n",
       "        text-align: right;\n",
       "    }\n",
       "</style>\n",
       "<table border=\"1\" class=\"dataframe\">\n",
       "  <thead>\n",
       "    <tr style=\"text-align: right;\">\n",
       "      <th></th>\n",
       "      <th>overall</th>\n",
       "      <th>reviewText</th>\n",
       "      <th>helpful_numerator</th>\n",
       "      <th>helpful_denominator</th>\n",
       "      <th>Helpful</th>\n",
       "    </tr>\n",
       "  </thead>\n",
       "  <tbody>\n",
       "    <tr>\n",
       "      <td>7</td>\n",
       "      <td>2</td>\n",
       "      <td>I bought this DVD and I'm returning it.  The d...</td>\n",
       "      <td>2</td>\n",
       "      <td>12</td>\n",
       "      <td>0</td>\n",
       "    </tr>\n",
       "    <tr>\n",
       "      <td>11</td>\n",
       "      <td>2</td>\n",
       "      <td>I bought this DVD and I'm returning it.  The d...</td>\n",
       "      <td>3</td>\n",
       "      <td>17</td>\n",
       "      <td>0</td>\n",
       "    </tr>\n",
       "    <tr>\n",
       "      <td>16</td>\n",
       "      <td>1</td>\n",
       "      <td>THIS IS NOT A CLAPTON CONCERT!!! IT'S AN INSTR...</td>\n",
       "      <td>12</td>\n",
       "      <td>31</td>\n",
       "      <td>0</td>\n",
       "    </tr>\n",
       "  </tbody>\n",
       "</table>\n",
       "</div>"
      ],
      "text/plain": [
       "    overall                                         reviewText  \\\n",
       "7         2  I bought this DVD and I'm returning it.  The d...   \n",
       "11        2  I bought this DVD and I'm returning it.  The d...   \n",
       "16        1  THIS IS NOT A CLAPTON CONCERT!!! IT'S AN INSTR...   \n",
       "\n",
       "    helpful_numerator  helpful_denominator  Helpful  \n",
       "7                   2                   12        0  \n",
       "11                  3                   17        0  \n",
       "16                 12                   31        0  "
      ]
     },
     "execution_count": 8,
     "metadata": {},
     "output_type": "execute_result"
    }
   ],
   "source": [
    "#transform Helpfulness into a binary variable with 0.50 ratio\n",
    "threshold = 0.5\n",
    "df1.loc[:, 'Helpful'] = np.where(df1.loc[:, 'helpful_numerator'] \\\n",
    "                                 / df1.loc[:, 'helpful_denominator'] > threshold, 1, 0)\n",
    "df1.head(3)"
   ]
  },
  {
   "cell_type": "code",
   "execution_count": 9,
   "metadata": {},
   "outputs": [
    {
     "name": "stdout",
     "output_type": "stream",
     "text": [
      "Count:\n"
     ]
    },
    {
     "data": {
      "text/html": [
       "<div>\n",
       "<style scoped>\n",
       "    .dataframe tbody tr th:only-of-type {\n",
       "        vertical-align: middle;\n",
       "    }\n",
       "\n",
       "    .dataframe tbody tr th {\n",
       "        vertical-align: top;\n",
       "    }\n",
       "\n",
       "    .dataframe thead th {\n",
       "        text-align: right;\n",
       "    }\n",
       "</style>\n",
       "<table border=\"1\" class=\"dataframe\">\n",
       "  <thead>\n",
       "    <tr style=\"text-align: right;\">\n",
       "      <th></th>\n",
       "      <th>overall</th>\n",
       "      <th>reviewText</th>\n",
       "      <th>helpful_numerator</th>\n",
       "      <th>helpful_denominator</th>\n",
       "    </tr>\n",
       "    <tr>\n",
       "      <th>Helpful</th>\n",
       "      <th></th>\n",
       "      <th></th>\n",
       "      <th></th>\n",
       "      <th></th>\n",
       "    </tr>\n",
       "  </thead>\n",
       "  <tbody>\n",
       "    <tr>\n",
       "      <td>0</td>\n",
       "      <td>4104</td>\n",
       "      <td>4104</td>\n",
       "      <td>4104</td>\n",
       "      <td>4104</td>\n",
       "    </tr>\n",
       "    <tr>\n",
       "      <td>1</td>\n",
       "      <td>19607</td>\n",
       "      <td>19607</td>\n",
       "      <td>19607</td>\n",
       "      <td>19607</td>\n",
       "    </tr>\n",
       "  </tbody>\n",
       "</table>\n",
       "</div>"
      ],
      "text/plain": [
       "         overall  reviewText  helpful_numerator  helpful_denominator\n",
       "Helpful                                                             \n",
       "0           4104        4104               4104                 4104\n",
       "1          19607       19607              19607                19607"
      ]
     },
     "metadata": {},
     "output_type": "display_data"
    }
   ],
   "source": [
    "#Check the balance\n",
    "print ('Count:')\n",
    "display(df1.groupby('Helpful').count())"
   ]
  },
  {
   "cell_type": "code",
   "execution_count": 10,
   "metadata": {},
   "outputs": [
    {
     "data": {
      "image/png": "[encoded data removed]",
      "text/plain": [
       "<Figure size 1008x576 with 2 Axes>"
      ]
     },
     "metadata": {
      "needs_background": "light"
     },
     "output_type": "display_data"
    }
   ],
   "source": [
    "#Visualize correlation of the data\n",
    "correlations = df1.corr()\n",
    "plt.figure(figsize = FIG_SIZE)\n",
    "plt.title(\"Heatmap of correlations in each catagory\")\n",
    "_ = sns.heatmap(correlations, vmin=0, vmax=1, annot=True)"
   ]
  },
  {
   "cell_type": "code",
   "execution_count": 11,
   "metadata": {},
   "outputs": [
    {
     "data": {
      "text/html": [
       "<div>\n",
       "<style scoped>\n",
       "    .dataframe tbody tr th:only-of-type {\n",
       "        vertical-align: middle;\n",
       "    }\n",
       "\n",
       "    .dataframe tbody tr th {\n",
       "        vertical-align: top;\n",
       "    }\n",
       "\n",
       "    .dataframe thead th {\n",
       "        text-align: right;\n",
       "    }\n",
       "</style>\n",
       "<table border=\"1\" class=\"dataframe\">\n",
       "  <thead>\n",
       "    <tr style=\"text-align: right;\">\n",
       "      <th></th>\n",
       "      <th>overall</th>\n",
       "      <th>reviewText</th>\n",
       "      <th>helpful_numerator</th>\n",
       "      <th>helpful_denominator</th>\n",
       "      <th>Helpful</th>\n",
       "    </tr>\n",
       "  </thead>\n",
       "  <tbody>\n",
       "    <tr>\n",
       "      <td>7</td>\n",
       "      <td>2</td>\n",
       "      <td>I bought this DVD and I'm returning it.  The d...</td>\n",
       "      <td>2</td>\n",
       "      <td>12</td>\n",
       "      <td>0</td>\n",
       "    </tr>\n",
       "    <tr>\n",
       "      <td>11</td>\n",
       "      <td>2</td>\n",
       "      <td>I bought this DVD and I'm returning it.  The d...</td>\n",
       "      <td>3</td>\n",
       "      <td>17</td>\n",
       "      <td>0</td>\n",
       "    </tr>\n",
       "    <tr>\n",
       "      <td>16</td>\n",
       "      <td>1</td>\n",
       "      <td>THIS IS NOT A CLAPTON CONCERT!!! IT'S AN INSTR...</td>\n",
       "      <td>12</td>\n",
       "      <td>31</td>\n",
       "      <td>0</td>\n",
       "    </tr>\n",
       "    <tr>\n",
       "      <td>28</td>\n",
       "      <td>5</td>\n",
       "      <td>Mat and would not hit it off.  Instant persona...</td>\n",
       "      <td>14</td>\n",
       "      <td>15</td>\n",
       "      <td>1</td>\n",
       "    </tr>\n",
       "    <tr>\n",
       "      <td>33</td>\n",
       "      <td>5</td>\n",
       "      <td>My Background:In order to level set you as to ...</td>\n",
       "      <td>17</td>\n",
       "      <td>17</td>\n",
       "      <td>1</td>\n",
       "    </tr>\n",
       "    <tr>\n",
       "      <td>...</td>\n",
       "      <td>...</td>\n",
       "      <td>...</td>\n",
       "      <td>...</td>\n",
       "      <td>...</td>\n",
       "      <td>...</td>\n",
       "    </tr>\n",
       "    <tr>\n",
       "      <td>499663</td>\n",
       "      <td>5</td>\n",
       "      <td>I knew Phillip was talented, but on this album...</td>\n",
       "      <td>18</td>\n",
       "      <td>22</td>\n",
       "      <td>1</td>\n",
       "    </tr>\n",
       "    <tr>\n",
       "      <td>499967</td>\n",
       "      <td>5</td>\n",
       "      <td>Reuben Morgan and Ben Fielding's song \"Mighty ...</td>\n",
       "      <td>13</td>\n",
       "      <td>14</td>\n",
       "      <td>1</td>\n",
       "    </tr>\n",
       "    <tr>\n",
       "      <td>500005</td>\n",
       "      <td>3</td>\n",
       "      <td>I don't understand the track listing.The songs...</td>\n",
       "      <td>4</td>\n",
       "      <td>20</td>\n",
       "      <td>0</td>\n",
       "    </tr>\n",
       "    <tr>\n",
       "      <td>500011</td>\n",
       "      <td>5</td>\n",
       "      <td>As a longtime fan since I was eight years old ...</td>\n",
       "      <td>11</td>\n",
       "      <td>11</td>\n",
       "      <td>1</td>\n",
       "    </tr>\n",
       "    <tr>\n",
       "      <td>500022</td>\n",
       "      <td>3</td>\n",
       "      <td>The good part of this CD repackage is that the...</td>\n",
       "      <td>11</td>\n",
       "      <td>14</td>\n",
       "      <td>1</td>\n",
       "    </tr>\n",
       "  </tbody>\n",
       "</table>\n",
       "<p>23711 rows × 5 columns</p>\n",
       "</div>"
      ],
      "text/plain": [
       "        overall                                         reviewText  \\\n",
       "7             2  I bought this DVD and I'm returning it.  The d...   \n",
       "11            2  I bought this DVD and I'm returning it.  The d...   \n",
       "16            1  THIS IS NOT A CLAPTON CONCERT!!! IT'S AN INSTR...   \n",
       "28            5  Mat and would not hit it off.  Instant persona...   \n",
       "33            5  My Background:In order to level set you as to ...   \n",
       "...         ...                                                ...   \n",
       "499663        5  I knew Phillip was talented, but on this album...   \n",
       "499967        5  Reuben Morgan and Ben Fielding's song \"Mighty ...   \n",
       "500005        3  I don't understand the track listing.The songs...   \n",
       "500011        5  As a longtime fan since I was eight years old ...   \n",
       "500022        3  The good part of this CD repackage is that the...   \n",
       "\n",
       "        helpful_numerator  helpful_denominator  Helpful  \n",
       "7                       2                   12        0  \n",
       "11                      3                   17        0  \n",
       "16                     12                   31        0  \n",
       "28                     14                   15        1  \n",
       "33                     17                   17        1  \n",
       "...                   ...                  ...      ...  \n",
       "499663                 18                   22        1  \n",
       "499967                 13                   14        1  \n",
       "500005                  4                   20        0  \n",
       "500011                 11                   11        1  \n",
       "500022                 11                   14        1  \n",
       "\n",
       "[23711 rows x 5 columns]"
      ]
     },
     "execution_count": 11,
     "metadata": {},
     "output_type": "execute_result"
    }
   ],
   "source": [
    "df1"
   ]
  },
  {
   "cell_type": "markdown",
   "metadata": {},
   "source": [
    "# Text Feature Generation for Benchmark model\n",
    "\n",
    "* First we convert the text to lower case so we can run our natural language processing to produce features.\n",
    "* Remove punctuations. Removing punctuation may seem like it should not be done in the case of this problem,but it will cause the learning algorithm to behave poorly."
   ]
  },
  {
   "cell_type": "code",
   "execution_count": 12,
   "metadata": {},
   "outputs": [
    {
     "data": {
      "text/plain": [
       "7     i bought this dvd and i'm returning it.  the d...\n",
       "11    i bought this dvd and i'm returning it.  the d...\n",
       "16    this is not a clapton concert!!! it's an instr...\n",
       "28    mat and would not hit it off.  instant persona...\n",
       "Name: reviewText, dtype: object"
      ]
     },
     "execution_count": 12,
     "metadata": {},
     "output_type": "execute_result"
    }
   ],
   "source": [
    "# convert text to lowercase\n",
    "df1.loc[:, 'reviewText'] = df1['reviewText'].str.lower()\n",
    "\n",
    "def remove_punctuation(text):\n",
    "    return text.translate(string.punctuation.translate( '\"'))\n",
    "\n",
    "df1['reviewText']=df1['reviewText'].apply(lambda x: remove_punctuation(x))\n",
    "df1['reviewText'].head(4)"
   ]
  },
  {
   "cell_type": "markdown",
   "metadata": {},
   "source": [
    "#### In order to generate more features we will use the TF-IDF vectorizer from the sci-kit learn library. We will also use the NLTK library. The pre-processing methods that we are going to employ are as follows:\n",
    "\n",
    "> 1. Stemming : - Stemming is the process of reducing inflected (or sometimes derived) words to their word stem, base or root form—generally a written word form. The stem need not be identical to the morphological root of the word; it is usually sufficient that related words map to the same stem, even if this stem is not in itself a valid root.A stemmer for English operating on the stem cat should identify such strings as cats, catlike, and catty.\n",
    "\n",
    "> 2. Tokenizing : - Tokenization is essentially splitting a phrase, sentence, paragraph, or an entire text document into smaller units, such as individual words or terms. Each of these smaller units are called tokens. It is essential to generate our TFIDF features.\n",
    "\n",
    "> 3. Removing Stop words :- Stop words are a set of commonly used words in any language. For example, in English, “the”, “is” and “and”, would easily qualify as stop words. In NLP and text mining applications, stop words are used to eliminate unimportant words, allowing applications to focus on the important words instead.\n",
    "\n",
    "> 4. N-grams :- Makes groups of words that are 'n' long. E.g. the 2-grams for the sentence \"Red color Guitar\" are [Red, color] , [Red, Guitar] and [color, Guitar] . Weving more than that is computationally expensive for my computer. will stick to 2-grams and 1-grams for now. Having more than that is computationally expensive.\n",
    "\n",
    "#### Finally we will generate TF-IDF for each of the stemmed and tokenized words and ngrams. TF-IDF is short for Term Frequency Inverse Document frequency. TF-IDF is a numerical statistic that is intended to reflect how important a word is to a document in a collection or corpus. It is often used as a weighting factor in information retrieval and text mining.\n",
    "\n",
    ">  TF: Term Frequency, which measures how frequently a term occurs in a document. Since every document is different in length, it is possible that a term would appear much more times in long documents than shorter ones. Thus, the term frequency is often divided by the document length (aka. the total number of terms in the document) as a way of normalization: \n",
    "\n",
    "> TF(t) = (Number of times term t appears in a document) / (Total number of terms in the document).\n",
    "\n",
    "> IDF: Inverse Document Frequency, which measures how important a term is. While computing TF, all terms are considered equally important. However it is known that certain terms, such as \"is\", \"of\", and \"that\", may appear a lot of times but have little importance. Thus we need to weigh down the frequent terms while scale up the rare ones, by computing the following:\n",
    "\n",
    "> IDF(t) = log_e(Total number of documents / Number of documents with term t in it). \n",
    "\n",
    "The TF-IDF weight is the product of these two numbers. We will set min_df = 0.001 for getting rid of spelling mistakes.\n",
    "Words appearing infrequently are most likely typing errors and not interested for our algos thus reducing feature space and enabling our algorithm to work faster."
   ]
  },
  {
   "cell_type": "code",
   "execution_count": 13,
   "metadata": {},
   "outputs": [
    {
     "data": {
      "text/plain": [
       "<23711x1335 sparse matrix of type '<class 'numpy.float64'>'\n",
       "\twith 1141776 stored elements in Compressed Sparse Row format>"
      ]
     },
     "execution_count": 13,
     "metadata": {},
     "output_type": "execute_result"
    }
   ],
   "source": [
    "#tokenize text with Tfidf\n",
    "from sklearn.feature_extraction.text import TfidfVectorizer\n",
    "from nltk.stem.snowball import SnowballStemmer\n",
    "\n",
    "#create a stemmer\n",
    "stemmer = SnowballStemmer(\"english\")\n",
    "\n",
    "\n",
    "#define our own tokenizing function that we will pass into the TFIDFVectorizer. We will also stem the words here.\n",
    "def tokens(x):\n",
    "    x = x.split()\n",
    "    stems = []\n",
    "    [stems.append(stemmer.stem(word)) for word in x]\n",
    "    return stems\n",
    "\n",
    "#define the vectorizer\n",
    "vectorizer = TfidfVectorizer(tokenizer = tokens, stop_words = 'english', ngram_range=(1, 1), min_df = 0.01)\n",
    "#fit the vectorizers to the data.\n",
    "features = vectorizer.fit_transform(df1['reviewText'])\n",
    "features"
   ]
  },
  {
   "cell_type": "markdown",
   "metadata": {},
   "source": [
    "We have now generated all of the features that we are going to need.\n",
    "\n",
    "### Benchmark model\n",
    "\n",
    "In order to establish a baseline for the project, we will look at all of the out of box models from sklearn.\n",
    "\n",
    "The following algorithms were investigated:\n",
    "> * Gaussian Naive Bayes (GaussianNB)\n",
    "> * Decision Trees\n",
    "> * AdaBoost\n",
    "> * Random Forest\n",
    "> * Logistic Regression\n",
    "\n",
    "Lets read about these algorithms in short :-\n",
    "> 1. Gaussian Navie Bayes :- In Gaussian Naive Bayes, continuous values associated with each feature are assumed to be distributed according to a Gaussian distribution. A Gaussian distribution is also called Normal distribution. When plotted, it gives a bell shaped curve which is symmetric about the mean of the feature values.\n",
    "\n",
    "> 2. Decision Trees :- A decision tree is a decision support tool that uses a tree-like model of decisions and their possible consequences, including chance event outcomes, resource costs, and utility. It is one way to display an algorithm that only contains conditional control statements.\n",
    "\n",
    "> 3. AdaBoostClassifier :- AdaBoost is an iterative ensemble method. AdaBoost classifier builds a strong classifier by combining multiple poorly performing classifiers so that you will get high accuracy strong classifier . Any machine learning algorithm can be used as base classifier if it accepts weights on the training set.\n",
    "\n",
    "> 4. RandomForest :- Random forests or random decision forests are an ensemble learning method for classification, regression and other tasks that operate by constructing a multitude of decision trees at training time and outputting the class that is the mode of the classes or mean/average prediction of the individual trees. \n",
    "\n",
    "> 5. Logistic Regression :- Logistic regression is a statistical model that in its basic form uses a logistic function to model a binary dependent variable, although many more complex extensions exist. In regression analysis, logistic regression (or logit regression) is estimating the parameters of a logistic model (a form of binary regression).\n",
    "\n",
    "Now we will shuffle and split the data into 80% training and 20% testing."
   ]
  },
  {
   "cell_type": "code",
   "execution_count": 14,
   "metadata": {},
   "outputs": [],
   "source": [
    "from sklearn.model_selection import train_test_split\n",
    "X_train, X_test, y_train, y_test = train_test_split(features,df1['Helpful'], test_size=0.2, random_state=RAN_STATE)"
   ]
  },
  {
   "cell_type": "markdown",
   "metadata": {},
   "source": [
    "### The benefit of splitting the data into testing and training sets is that it sets valuation of how well the model is performing before using it in the real world to make predictions."
   ]
  },
  {
   "cell_type": "code",
   "execution_count": 15,
   "metadata": {},
   "outputs": [],
   "source": [
    "from sklearn.metrics import roc_auc_score, roc_curve\n",
    "\n",
    "def train_classifier(clf, X_train, y_train):\n",
    "    ''' Fits a classifier to the training data. '''\n",
    "    \n",
    "    # Start the clock, train the classifier, then stop the clock\n",
    "    start = time()\n",
    "    clf.fit(X_train, y_train)\n",
    "    end = time()\n",
    "    \n",
    "    # Print the results\n",
    "    print (\"Trained model in {:.4f} seconds\".format(end - start))\n",
    "\n",
    "    \n",
    "def predict_labels(clf, features, target):\n",
    "    ''' Makes predictions using a fit classifier based on roc_auc score. '''\n",
    "    \n",
    "    # Start the clock, make predictions, then stop the clock\n",
    "    start = time()\n",
    "    probas = clf.predict_proba(features)\n",
    "    end = time()\n",
    "    \n",
    "    # Print and return results\n",
    "    print (\"Made predictions in {:.4f} seconds.\".format(end - start))\n",
    "    return roc_auc_score(target.values, probas[:,1].T)\n",
    "\n",
    "\n",
    "def train_predict(clf, X_train, y_train, X_test, y_test):\n",
    "    ''' Train and predict using a classifer based on roc_auc score. '''\n",
    "    \n",
    "    # Indicate the classifier and the training set size\n",
    "    print (\"Training a {} using a training set size of {}. . .\".format(clf.__class__.__name__, X_train.shape[0]))\n",
    "    \n",
    "    # Train the classifier\n",
    "    train_classifier(clf, X_train, y_train)\n",
    "    \n",
    "    # Print the results of prediction for both training and testing\n",
    "    print (\"ROC_AUC score for training set: {:.4f}.\".format(predict_labels(clf, X_train, y_train)))\n",
    "    print (\"ROC_AUC score for test set: {:.4f}.\\n\".format(predict_labels(clf, X_test, y_test)))\n",
    "    \n",
    "def clf_test_roc_score(clf, X_train, y_train, X_test, y_test):\n",
    "    clf.fit(X_train, y_train)\n",
    "    probas = probas =clf.predict_proba(X_test)\n",
    "    return roc_auc_score(y_test, probas[:,1].T)"
   ]
  },
  {
   "cell_type": "markdown",
   "metadata": {},
   "source": [
    "#### Now we will perform our algorithms using above function.\n",
    "#### We will train and test on three different training sizes in order to find which one will be our benchmark."
   ]
  },
  {
   "cell_type": "code",
   "execution_count": 16,
   "metadata": {},
   "outputs": [
    {
     "name": "stdout",
     "output_type": "stream",
     "text": [
      "Training a GaussianNB using a training set size of 5000. . .\n",
      "Trained model in 0.2473 seconds\n",
      "Made predictions in 0.3630 seconds.\n",
      "ROC_AUC score for training set: 0.8819.\n",
      "Made predictions in 0.3430 seconds.\n",
      "ROC_AUC score for test set: 0.6753.\n",
      "\n",
      "Training a GaussianNB using a training set size of 10000. . .\n",
      "Trained model in 0.4770 seconds\n",
      "Made predictions in 0.6400 seconds.\n",
      "ROC_AUC score for training set: 0.8303.\n",
      "Made predictions in 0.3680 seconds.\n",
      "ROC_AUC score for test set: 0.7130.\n",
      "\n",
      "Training a GaussianNB using a training set size of 18968. . .\n",
      "Trained model in 0.9011 seconds\n",
      "Made predictions in 1.3071 seconds.\n",
      "ROC_AUC score for training set: 0.7873.\n",
      "Made predictions in 0.3150 seconds.\n",
      "ROC_AUC score for test set: 0.7342.\n",
      "\n",
      "Training a AdaBoostClassifier using a training set size of 5000. . .\n",
      "Trained model in 15.2302 seconds\n",
      "Made predictions in 1.9551 seconds.\n",
      "ROC_AUC score for training set: 0.8483.\n",
      "Made predictions in 1.9437 seconds.\n",
      "ROC_AUC score for test set: 0.7434.\n",
      "\n",
      "Training a AdaBoostClassifier using a training set size of 10000. . .\n",
      "Trained model in 25.4080 seconds\n",
      "Made predictions in 3.1918 seconds.\n",
      "ROC_AUC score for training set: 0.8209.\n",
      "Made predictions in 1.5501 seconds.\n",
      "ROC_AUC score for test set: 0.7826.\n",
      "\n",
      "Training a AdaBoostClassifier using a training set size of 18968. . .\n",
      "Trained model in 49.0611 seconds\n",
      "Made predictions in 6.0365 seconds.\n",
      "ROC_AUC score for training set: 0.8122.\n",
      "Made predictions in 1.5496 seconds.\n",
      "ROC_AUC score for test set: 0.8012.\n",
      "\n",
      "Training a RandomForestClassifier using a training set size of 5000. . .\n",
      "Trained model in 9.9801 seconds\n",
      "Made predictions in 0.4970 seconds.\n",
      "ROC_AUC score for training set: 0.9995.\n",
      "Made predictions in 0.4871 seconds.\n",
      "ROC_AUC score for test set: 0.8011.\n",
      "\n",
      "Training a RandomForestClassifier using a training set size of 10000. . .\n",
      "Trained model in 25.4500 seconds\n",
      "Made predictions in 1.0051 seconds.\n",
      "ROC_AUC score for training set: 0.9996.\n",
      "Made predictions in 0.5231 seconds.\n",
      "ROC_AUC score for test set: 0.8206.\n",
      "\n",
      "Training a RandomForestClassifier using a training set size of 18968. . .\n",
      "Trained model in 58.5573 seconds\n",
      "Made predictions in 1.9977 seconds.\n",
      "ROC_AUC score for training set: 0.9994.\n",
      "Made predictions in 0.5260 seconds.\n",
      "ROC_AUC score for test set: 0.8292.\n",
      "\n",
      "Training a LogisticRegression using a training set size of 5000. . .\n",
      "Trained model in 0.5930 seconds\n",
      "Made predictions in 0.0210 seconds.\n",
      "ROC_AUC score for training set: 0.9151.\n",
      "Made predictions in 0.0170 seconds.\n",
      "ROC_AUC score for test set: 0.8239.\n",
      "\n",
      "Training a LogisticRegression using a training set size of 10000. . .\n",
      "Trained model in 2.0722 seconds\n",
      "Made predictions in 0.0350 seconds.\n",
      "ROC_AUC score for training set: 0.8948.\n",
      "Made predictions in 0.0170 seconds.\n",
      "ROC_AUC score for test set: 0.8350.\n",
      "\n",
      "Training a LogisticRegression using a training set size of 18968. . .\n",
      "Trained model in 4.4073 seconds\n",
      "Made predictions in 0.0740 seconds.\n",
      "ROC_AUC score for training set: 0.8780.\n",
      "Made predictions in 0.0179 seconds.\n",
      "ROC_AUC score for test set: 0.8453.\n",
      "\n",
      "Training a DecisionTreeClassifier using a training set size of 5000. . .\n",
      "Trained model in 6.8040 seconds\n",
      "Made predictions in 0.0310 seconds.\n",
      "ROC_AUC score for training set: 1.0000.\n",
      "Made predictions in 0.0340 seconds.\n",
      "ROC_AUC score for test set: 0.6080.\n",
      "\n",
      "Training a DecisionTreeClassifier using a training set size of 10000. . .\n",
      "Trained model in 19.0191 seconds\n",
      "Made predictions in 0.0650 seconds.\n",
      "ROC_AUC score for training set: 1.0000.\n",
      "Made predictions in 0.0270 seconds.\n",
      "ROC_AUC score for test set: 0.6001.\n",
      "\n",
      "Training a DecisionTreeClassifier using a training set size of 18968. . .\n",
      "Trained model in 53.0832 seconds\n",
      "Made predictions in 0.1320 seconds.\n",
      "ROC_AUC score for training set: 1.0000.\n",
      "Made predictions in 0.0300 seconds.\n",
      "ROC_AUC score for test set: 0.6080.\n",
      "\n"
     ]
    }
   ],
   "source": [
    "# Import the supervised learning models from sklearn\n",
    "from sklearn.naive_bayes import GaussianNB\n",
    "from sklearn.ensemble import AdaBoostClassifier\n",
    "from sklearn.ensemble import RandomForestClassifier\n",
    "from sklearn.linear_model import LogisticRegression\n",
    "from sklearn.tree import DecisionTreeClassifier\n",
    "\n",
    "\n",
    "# Initialize the models using a random state were applicable.\n",
    "clf_list = [GaussianNB(), \n",
    "            AdaBoostClassifier(random_state = RAN_STATE), \n",
    "            RandomForestClassifier(random_state = RAN_STATE), \n",
    "            LogisticRegression(random_state = RAN_STATE),\n",
    "            DecisionTreeClassifier(random_state = RAN_STATE)]\n",
    "x_tr = X_train.toarray()\n",
    "x_te = X_test.toarray()\n",
    "\n",
    "\n",
    "# Set up the training set sizes for 100, 200 and 300 respectively.\n",
    "train_feature_list = [x_tr[0:5000],x_tr[0:10000],x_tr]\n",
    "train_target_list = [y_train[0:5000], y_train[0:10000], y_train]\n",
    "\n",
    "\n",
    "# Execute the 'train_predict' function for each of the classifiers and each training set size\n",
    "for clf in clf_list:\n",
    "    for a, b in zip(train_feature_list, train_target_list):\n",
    "        train_predict(clf, a, b, x_te, y_test)"
   ]
  },
  {
   "cell_type": "markdown",
   "metadata": {},
   "source": [
    "#### So we can see clearly that Logistic Regression classifier did the best in our benchmark test. Not so suprising as we have mentioned above that logistic is a binary Classification and will work best on binary labels. It's interesting to compare the speed of the Logistic Regression to the other algorithms. It is quite a bit faster than all of the algorithms, and more accurate than each of them for a test size of 18,968. In order to make sure we are covering all of our bases, we should also do a visualization."
   ]
  },
  {
   "cell_type": "code",
   "execution_count": 17,
   "metadata": {},
   "outputs": [
    {
     "data": {
      "image/png": "[encoded data removed]",
      "text/plain": [
       "<Figure size 432x288 with 1 Axes>"
      ]
     },
     "metadata": {
      "needs_background": "light"
     },
     "output_type": "display_data"
    },
    {
     "data": {
      "text/plain": [
       "<Figure size 1008x576 with 0 Axes>"
      ]
     },
     "metadata": {},
     "output_type": "display_data"
    }
   ],
   "source": [
    "FIG_SIZE = (14,8)\n",
    "### Visualize all of the classifiers                                                               \n",
    "for clf in clf_list:\n",
    "    x_graph = []\n",
    "    y_graph = []\n",
    "    for a, b in zip(train_feature_list, train_target_list):\n",
    "        y_graph.append(clf_test_roc_score(clf, a, b, x_te, y_test))\n",
    "        x_graph.append(len(a))\n",
    "    plt.scatter(x_graph,y_graph)\n",
    "    plt.plot(x_graph,y_graph, label = clf.__class__.__name__)\n",
    "\n",
    "plt.title('Comparison of Different Classifiers')\n",
    "plt.xlabel('Training Size')\n",
    "plt.ylabel('ROC_AUC score on test set')\n",
    "plt.legend(bbox_to_anchor=(1.6, 1.05))\n",
    "plt.figure(figsize=FIG_SIZE)             \n",
    "plt.show()"
   ]
  },
  {
   "cell_type": "markdown",
   "metadata": {},
   "source": [
    "As expected, the Logistic Regression is the best algorithm in terms of accuracy for all test sizes. It's final score for the area under the ROC curve was 0.8453 and a sample size of ~19,000. In addition it is the fastest. The training speed and prediction speed were 0.068s and 0.0137s respectively for a sample size of ~19,000. As our system needs to consider the trade off between accuracy and speed, the Logistic Regression algorithm represents the ideal model for our benchmark. "
   ]
  },
  {
   "cell_type": "code",
   "execution_count": 18,
   "metadata": {},
   "outputs": [
    {
     "data": {
      "text/plain": [
       "<23711x1336 sparse matrix of type '<class 'numpy.float64'>'\n",
       "\twith 1165487 stored elements in Compressed Sparse Row format>"
      ]
     },
     "execution_count": 18,
     "metadata": {},
     "output_type": "execute_result"
    }
   ],
   "source": [
    "#add Score column to features\n",
    "import scipy as scipy\n",
    "\n",
    "overall = np.array(list(df1.overall))\n",
    "overall = overall.reshape(features.shape[0], 1)\n",
    "\n",
    "features = scipy.sparse.hstack((features,scipy.sparse.csr_matrix(overall)))\n",
    "\n",
    "features = scipy.sparse.csr_matrix(features)\n",
    "features\n"
   ]
  },
  {
   "cell_type": "markdown",
   "metadata": {},
   "source": [
    "# Refinement\n",
    "#### In order to improve our results we are going to try adding a new feature to our feature set. The 'overall' score category was shown before to have a correlation with 'helpful' or 0.46. Lets try adding it to the feature set and seeing how well the algorithm performs."
   ]
  },
  {
   "cell_type": "code",
   "execution_count": 19,
   "metadata": {},
   "outputs": [],
   "source": [
    "X_train2, X_test2, y_train, y_test = train_test_split(features, df1['Helpful'], test_size=0.2, random_state=RAN_STATE)"
   ]
  },
  {
   "cell_type": "markdown",
   "metadata": {},
   "source": [
    "# Grid Search\n",
    "\n",
    "Grid search is a tuning technique that attempts to compute the optimum values of hyperparameters. It is an exhaustive search that is performed on a the specific parameter values of a model. The model is also known as an estimator.\n",
    "# Cross-Validation\n",
    "\n",
    "Cross-validation is a resampling procedure used to evaluate machine learning models on a limited data sample.\n",
    "\n",
    "The procedure has a single parameter called k that refers to the number of groups that a given data sample is to be split into. As such, the procedure is often called k-fold cross-validation. When a specific value for k is chosen, it may be used in place of k in the reference to the model, such as k=5 becoming 5-fold cross-validation.\n",
    "\n",
    "Cross-validation is primarily used in applied machine learning to estimate the skill of a machine learning model on unseen data. That is, to use a limited sample in order to estimate how the model is expected to perform in general when used to make predictions on data not used during the training of the model.\n",
    "\n",
    "It is a popular method because it is simple to understand and because it generally results in a less biased or less optimistic estimate of the model skill than other methods, such as a simple train/test split."
   ]
  },
  {
   "cell_type": "code",
   "execution_count": 20,
   "metadata": {},
   "outputs": [
    {
     "name": "stdout",
     "output_type": "stream",
     "text": [
      "Fitting grid search...\n",
      "Grid search fitted.\n"
     ]
    }
   ],
   "source": [
    "from sklearn.model_selection import GridSearchCV,cross_validate,StratifiedKFold\n",
    "#make the grid search object\n",
    "gs2 = GridSearchCV(\n",
    "    estimator=LogisticRegression(),\n",
    "    param_grid={'C': [10**i for i in range(-5,5)], 'class_weight': [None, 'balanced']},\n",
    "    cv=StratifiedKFold(n_splits=5),\n",
    "    scoring='roc_auc'\n",
    ")\n",
    "\n",
    "#fit the grid search object to our new dataset\n",
    "print ('Fitting grid search...')\n",
    "gs2.fit(X_train2, y_train)\n",
    "print (\"Grid search fitted.\")"
   ]
  },
  {
   "cell_type": "code",
   "execution_count": 21,
   "metadata": {},
   "outputs": [
    {
     "name": "stdout",
     "output_type": "stream",
     "text": [
      "LogisticRegression(C=1, class_weight=None, dual=False, fit_intercept=True,\n",
      "                   intercept_scaling=1, l1_ratio=None, max_iter=100,\n",
      "                   multi_class='auto', n_jobs=None, penalty='l2',\n",
      "                   random_state=None, solver='lbfgs', tol=0.0001, verbose=0,\n",
      "                   warm_start=False)\n"
     ]
    },
    {
     "data": {
      "text/plain": [
       "{'mean_fit_time': array([0.07140946, 0.06340647, 0.06841183, 0.06801791, 0.06480246,\n",
       "        0.08956981, 0.10441117, 0.12281013, 0.2501699 , 0.22541924,\n",
       "        0.47385621, 0.48159504, 0.48578329, 0.48904266, 0.49120588,\n",
       "        0.49838209, 0.4954319 , 0.5004487 , 0.50236731, 0.51824713]),\n",
       " 'std_fit_time': array([0.00307743, 0.00463371, 0.00265009, 0.00570317, 0.00581296,\n",
       "        0.00646955, 0.01579077, 0.01601226, 0.01986356, 0.04456255,\n",
       "        0.01347284, 0.00963867, 0.02365126, 0.00877796, 0.01360232,\n",
       "        0.0039245 , 0.01390586, 0.00808335, 0.01831311, 0.01417636]),\n",
       " 'mean_score_time': array([0.00359616, 0.00439849, 0.00339556, 0.00359187, 0.00340328,\n",
       "        0.00400038, 0.00420012, 0.00359797, 0.00359812, 0.00419807,\n",
       "        0.00379329, 0.00439429, 0.00379415, 0.00439463, 0.00339527,\n",
       "        0.00379329, 0.00379715, 0.00379243, 0.00440164, 0.00379453]),\n",
       " 'std_score_time': array([0.00049369, 0.00048743, 0.00102119, 0.00049475, 0.00101877,\n",
       "        0.00063272, 0.00116899, 0.0004857 , 0.00048982, 0.00099001,\n",
       "        0.00075065, 0.00150183, 0.0004015 , 0.0004904 , 0.00048868,\n",
       "        0.0007497 , 0.000749  , 0.00075337, 0.00079924, 0.00040131]),\n",
       " 'param_C': masked_array(data=[1e-05, 1e-05, 0.0001, 0.0001, 0.001, 0.001, 0.01, 0.01,\n",
       "                    0.1, 0.1, 1, 1, 10, 10, 100, 100, 1000, 1000, 10000,\n",
       "                    10000],\n",
       "              mask=[False, False, False, False, False, False, False, False,\n",
       "                    False, False, False, False, False, False, False, False,\n",
       "                    False, False, False, False],\n",
       "        fill_value='?',\n",
       "             dtype=object),\n",
       " 'param_class_weight': masked_array(data=[None, 'balanced', None, 'balanced', None, 'balanced',\n",
       "                    None, 'balanced', None, 'balanced', None, 'balanced',\n",
       "                    None, 'balanced', None, 'balanced', None, 'balanced',\n",
       "                    None, 'balanced'],\n",
       "              mask=[False, False, False, False, False, False, False, False,\n",
       "                    False, False, False, False, False, False, False, False,\n",
       "                    False, False, False, False],\n",
       "        fill_value='?',\n",
       "             dtype=object),\n",
       " 'params': [{'C': 1e-05, 'class_weight': None},\n",
       "  {'C': 1e-05, 'class_weight': 'balanced'},\n",
       "  {'C': 0.0001, 'class_weight': None},\n",
       "  {'C': 0.0001, 'class_weight': 'balanced'},\n",
       "  {'C': 0.001, 'class_weight': None},\n",
       "  {'C': 0.001, 'class_weight': 'balanced'},\n",
       "  {'C': 0.01, 'class_weight': None},\n",
       "  {'C': 0.01, 'class_weight': 'balanced'},\n",
       "  {'C': 0.1, 'class_weight': None},\n",
       "  {'C': 0.1, 'class_weight': 'balanced'},\n",
       "  {'C': 1, 'class_weight': None},\n",
       "  {'C': 1, 'class_weight': 'balanced'},\n",
       "  {'C': 10, 'class_weight': None},\n",
       "  {'C': 10, 'class_weight': 'balanced'},\n",
       "  {'C': 100, 'class_weight': None},\n",
       "  {'C': 100, 'class_weight': 'balanced'},\n",
       "  {'C': 1000, 'class_weight': None},\n",
       "  {'C': 1000, 'class_weight': 'balanced'},\n",
       "  {'C': 10000, 'class_weight': None},\n",
       "  {'C': 10000, 'class_weight': 'balanced'}],\n",
       " 'split0_test_score': array([0.83174289, 0.83195385, 0.83313893, 0.83378606, 0.83459742,\n",
       "        0.83495639, 0.83453399, 0.83568023, 0.85752121, 0.86757723,\n",
       "        0.88080545, 0.88222361, 0.87295929, 0.87039636, 0.86507577,\n",
       "        0.86466271, 0.86642313, 0.86877166, 0.86497349, 0.86398804]),\n",
       " 'split1_test_score': array([0.834846  , 0.83498024, 0.83623122, 0.83631285, 0.83770938,\n",
       "        0.83689998, 0.83819964, 0.83781265, 0.85948988, 0.86549891,\n",
       "        0.87676411, 0.87452129, 0.86427153, 0.86010062, 0.85695695,\n",
       "        0.84891066, 0.85708185, 0.84873019, 0.85534159, 0.84780376]),\n",
       " 'split2_test_score': array([0.83798952, 0.8381624 , 0.83965741, 0.84005228, 0.84218085,\n",
       "        0.84174079, 0.84288317, 0.84272257, 0.86546202, 0.87250044,\n",
       "        0.88029472, 0.87856446, 0.8637627 , 0.86201868, 0.85370724,\n",
       "        0.85304078, 0.85026735, 0.8524136 , 0.85696296, 0.84931111]),\n",
       " 'split3_test_score': array([0.85743585, 0.85753079, 0.85870198, 0.85879544, 0.86019931,\n",
       "        0.8596474 , 0.86046001, 0.86049887, 0.87973632, 0.88589679,\n",
       "        0.88945563, 0.88782648, 0.87146415, 0.86865692, 0.86013142,\n",
       "        0.86179648, 0.85932521, 0.85982448, 0.85904286, 0.86043935]),\n",
       " 'split4_test_score': array([0.84866564, 0.84878616, 0.84999179, 0.85029036, 0.85165684,\n",
       "        0.85134203, 0.8519869 , 0.85215759, 0.86983574, 0.87601096,\n",
       "        0.88423296, 0.88254232, 0.86938123, 0.86524195, 0.85970471,\n",
       "        0.86028711, 0.85888029, 0.85537556, 0.85613307, 0.85642083]),\n",
       " 'mean_test_score': array([0.84213598, 0.84228269, 0.84354427, 0.8438474 , 0.84526876,\n",
       "        0.84491732, 0.84561274, 0.84577438, 0.86640903, 0.87349687,\n",
       "        0.88231057, 0.88113563, 0.86836778, 0.86528291, 0.85911522,\n",
       "        0.85773955, 0.85839557, 0.8570231 , 0.85849079, 0.85559262]),\n",
       " 'std_test_score': array([0.00954019, 0.00950565, 0.00946769, 0.00935263, 0.00942641,\n",
       "        0.00929344, 0.00944685, 0.00929678, 0.00796396, 0.00721223,\n",
       "        0.00428579, 0.00443374, 0.00373317, 0.00387413, 0.00376331,\n",
       "        0.00584648, 0.005164  , 0.00690812, 0.00346816, 0.00624153]),\n",
       " 'rank_test_score': array([20, 19, 18, 17, 15, 16, 14, 13,  5,  3,  1,  2,  4,  6,  7, 10,  9,\n",
       "        11,  8, 12])}"
      ]
     },
     "execution_count": 21,
     "metadata": {},
     "output_type": "execute_result"
    }
   ],
   "source": [
    "#print the grid search scores.\n",
    "print (gs2.best_estimator_)\n",
    "#gs2.grid_scores_\n",
    "gs2.cv_results_"
   ]
  },
  {
   "cell_type": "markdown",
   "metadata": {},
   "source": [
    "We can see the our optimized classifier is a LogisticRession with a 'C' parameter of 1 and a 'class_weight' = 'balanced'. This is the same as the default, meaning our optimization step did not actually change the parameters of the our of box model. We can now perform a prediction and measure it's results using a ROC visualization."
   ]
  },
  {
   "cell_type": "code",
   "execution_count": 22,
   "metadata": {},
   "outputs": [
    {
     "name": "stdout",
     "output_type": "stream",
     "text": [
      "ROC_AUC Score: 0.8884753929986888\n"
     ]
    },
    {
     "data": {
      "image/png": "[encoded data removed]",
      "text/plain": [
       "<Figure size 1008x576 with 1 Axes>"
      ]
     },
     "metadata": {
      "needs_background": "light"
     },
     "output_type": "display_data"
    }
   ],
   "source": [
    "clf2 = gs2.best_estimator_\n",
    "probas =clf2.predict_proba(X_test2)\n",
    "plt.figure(figsize = FIG_SIZE)\n",
    "plt.plot(roc_curve(y_test, probas[:,1])[0], roc_curve(y_test, probas[:,1])[1])\n",
    "plt.title('ROC Curve for Helpful Rating')\n",
    "plt.grid()\n",
    "plt.xlabel('False Positive Rate (1 - Specificity)')\n",
    "plt.ylabel('True Positive Rate (Sensitivity)')\n",
    "plt.show\n",
    "\n",
    "# ROC/AUC score\n",
    "print ('ROC_AUC Score:',roc_auc_score(y_test, probas[:,1].T))"
   ]
  },
  {
   "cell_type": "code",
   "execution_count": 23,
   "metadata": {},
   "outputs": [
    {
     "name": "stdout",
     "output_type": "stream",
     "text": [
      "Average ROC_AUC Score for 1-100 random_state: 0.8885\n"
     ]
    }
   ],
   "source": [
    "random_numbers = range(1,101)\n",
    "tot = 0.0\n",
    "for seed in random_numbers:\n",
    "    clf3 = LogisticRegression(random_state=seed)\n",
    "    clf3.fit(X_train2, y_train)\n",
    "    probas =clf3.predict_proba(X_test2)\n",
    "    tot += roc_auc_score(y_test, probas[:,1].T)\n",
    "    \n",
    "print ('Average ROC_AUC Score for 1-100 random_state: {:.4f}'.format(tot/100))"
   ]
  },
  {
   "cell_type": "markdown",
   "metadata": {},
   "source": [
    "The average ROC_AUC score for 100 different random_states is equal to 0.888, the same as our optimum solution. In this regard, our solution can be considered robust."
   ]
  },
  {
   "cell_type": "markdown",
   "metadata": {},
   "source": [
    "# Justification\n",
    "\n",
    "So now our final model using 'overall' score and TFIDF features was able to score a value of 0.888 for the area under the ROC curve. Now if we compare this score to our benchmark model which scored 0.845 , this is a 4.3% improvement. As this was only the addition of one feature. The area under the AUC_ROC can be directly interpreted as accuracy.\n",
    "\n",
    "Our goal in the beginning of this project was to design a system to automatically classify new Reviews made on amazon products as 'helpful' or 'non-helpful'. Our optimum model will correctly do this 84.5% of the time. This means that 15.5% of the time, our system will not work. \n",
    "\n",
    "# Free-Form Visualization\n",
    "\n",
    "A important quality of this project is the effect of introducing a new key feature to a benchmark model. Mainly, we looked at the TFIDF features generated from amazon review text and added the 'overall_rating' that was given to the product by the reviewer. We used these features to predict how 'helpful' other users would find the review. Our results can be visualized as follows:\n"
   ]
  },
  {
   "cell_type": "code",
   "execution_count": 24,
   "metadata": {},
   "outputs": [
    {
     "data": {
      "image/png": "[encoded data removed]",
      "text/plain": [
       "<Figure size 1008x576 with 1 Axes>"
      ]
     },
     "metadata": {
      "needs_background": "light"
     },
     "output_type": "display_data"
    },
    {
     "data": {
      "text/plain": [
       "<Figure size 1008x576 with 0 Axes>"
      ]
     },
     "metadata": {},
     "output_type": "display_data"
    },
    {
     "name": "stdout",
     "output_type": "stream",
     "text": [
      "ROC_AUC Score: 0.8452977791985226\n"
     ]
    }
   ],
   "source": [
    "clf = LogisticRegression()\n",
    "clf.fit(X_train,y_train)\n",
    "probas = clf.predict_proba(X_test)\n",
    "clf2 = gs2.best_estimator_\n",
    "probas2 =clf2.predict_proba(X_test2)\n",
    "plt.figure(figsize = FIG_SIZE)\n",
    "\n",
    "plt.plot(roc_curve(y_test, probas[:,1])[0], roc_curve(y_test, probas[:,1])[1], label = 'TFIDF')\n",
    "plt.plot(roc_curve(y_test, probas2[:,1])[0], roc_curve(y_test, probas2[:,1])[1], label = 'TFIDF + overall')\n",
    "plt.title('ROC Curve for Helpful Rating')\n",
    "plt.grid()\n",
    "plt.xlabel('False Positive Rate (1 - Specificity)')\n",
    "plt.ylabel('True Positive Rate (Sensitivity)')\n",
    "\n",
    "plt.legend(bbox_to_anchor=(1.0, .5))\n",
    "plt.figure(figsize=FIG_SIZE)\n",
    "plt.show()\n",
    "\n",
    "# ROC/AUC score\n",
    "print ('ROC_AUC Score:',roc_auc_score(y_test, probas[:,1].T))"
   ]
  },
  {
   "attachments": {
    "image.png": {
     "image/png": "[encoded data removed]"
    }
   },
   "cell_type": "markdown",
   "metadata": {},
   "source": [
    "# Problem Statement 2 :- To test Genuinity of 'reviewText' vs 'Score'\n",
    "\n",
    "Have you ever met in your listing that there are 1 star reviews left by non-verified purchase “buyers” with very positive comment or vice-versa with 5 star reviews with a negative comment.\n",
    "\n",
    "For e.g. :-\n",
    "![image.png](attachment:image.png)\n",
    "\n",
    "\n",
    "For my case, I am doubting those negative reviews are from the infringing seller who opens some buyers accounts to leave negative comment. Each account has only one review on their page, which is the one for my product.\n",
    "\n",
    "It feels so disgusting.\n",
    "\n",
    "## Solution : - \n",
    ">#### 1. We will be using Sentiment Analysis on 'reviewText' and give our own rating based on whether the sentiment is Positive , Negative or Neutral . \n",
    ">#### 2. Then we will compare those with score which users have given while reveiewing . If both sentiments don't match we have to filter those out.\n",
    "\n",
    "### So what is Sentiment Analysis ?\n",
    ">#### Sentiment analysis (or opinion mining) is a natural language processing technique used to determine whether data is positive, negative or neutral. Sentiment analysis is often performed on textual data to help businesses monitor brand and product sentiment in customer feedback, and understand customer needs."
   ]
  },
  {
   "cell_type": "code",
   "execution_count": 25,
   "metadata": {},
   "outputs": [
    {
     "data": {
      "text/html": [
       "<div>\n",
       "<style scoped>\n",
       "    .dataframe tbody tr th:only-of-type {\n",
       "        vertical-align: middle;\n",
       "    }\n",
       "\n",
       "    .dataframe tbody tr th {\n",
       "        vertical-align: top;\n",
       "    }\n",
       "\n",
       "    .dataframe thead th {\n",
       "        text-align: right;\n",
       "    }\n",
       "</style>\n",
       "<table border=\"1\" class=\"dataframe\">\n",
       "  <thead>\n",
       "    <tr style=\"text-align: right;\">\n",
       "      <th></th>\n",
       "      <th>reviewerID</th>\n",
       "      <th>asin</th>\n",
       "      <th>reviewerName</th>\n",
       "      <th>helpful</th>\n",
       "      <th>reviewText</th>\n",
       "      <th>overall</th>\n",
       "      <th>summary</th>\n",
       "      <th>unixReviewTime</th>\n",
       "      <th>reviewTime</th>\n",
       "    </tr>\n",
       "  </thead>\n",
       "  <tbody>\n",
       "    <tr>\n",
       "      <td>0</td>\n",
       "      <td>A2IBPI20UZIR0U</td>\n",
       "      <td>1384719342</td>\n",
       "      <td>cassandra tu \"Yeah, well, that's just like, u...</td>\n",
       "      <td>[0, 0]</td>\n",
       "      <td>Not much to write about here, but it does exac...</td>\n",
       "      <td>5</td>\n",
       "      <td>good</td>\n",
       "      <td>1393545600</td>\n",
       "      <td>02 28, 2014</td>\n",
       "    </tr>\n",
       "    <tr>\n",
       "      <td>1</td>\n",
       "      <td>A14VAT5EAX3D9S</td>\n",
       "      <td>1384719342</td>\n",
       "      <td>Jake</td>\n",
       "      <td>[13, 14]</td>\n",
       "      <td>The product does exactly as it should and is q...</td>\n",
       "      <td>5</td>\n",
       "      <td>Jake</td>\n",
       "      <td>1363392000</td>\n",
       "      <td>03 16, 2013</td>\n",
       "    </tr>\n",
       "    <tr>\n",
       "      <td>2</td>\n",
       "      <td>A195EZSQDW3E21</td>\n",
       "      <td>1384719342</td>\n",
       "      <td>Rick Bennette \"Rick Bennette\"</td>\n",
       "      <td>[1, 1]</td>\n",
       "      <td>The primary job of this device is to block the...</td>\n",
       "      <td>3</td>\n",
       "      <td>It Does The Job Well</td>\n",
       "      <td>1377648000</td>\n",
       "      <td>08 28, 2013</td>\n",
       "    </tr>\n",
       "    <tr>\n",
       "      <td>3</td>\n",
       "      <td>A2C00NNG1ZQQG2</td>\n",
       "      <td>1384719342</td>\n",
       "      <td>RustyBill \"Sunday Rocker\"</td>\n",
       "      <td>[0, 0]</td>\n",
       "      <td>Nice windscreen protects my MXL mic and preven...</td>\n",
       "      <td>5</td>\n",
       "      <td>GOOD WINDSCREEN FOR THE MONEY</td>\n",
       "      <td>1392336000</td>\n",
       "      <td>02 14, 2014</td>\n",
       "    </tr>\n",
       "    <tr>\n",
       "      <td>4</td>\n",
       "      <td>A94QU4C90B1AX</td>\n",
       "      <td>1384719342</td>\n",
       "      <td>SEAN MASLANKA</td>\n",
       "      <td>[0, 0]</td>\n",
       "      <td>This pop filter is great. It looks and perform...</td>\n",
       "      <td>5</td>\n",
       "      <td>No more pops when I record my vocals.</td>\n",
       "      <td>1392940800</td>\n",
       "      <td>02 21, 2014</td>\n",
       "    </tr>\n",
       "  </tbody>\n",
       "</table>\n",
       "</div>"
      ],
      "text/plain": [
       "       reviewerID        asin  \\\n",
       "0  A2IBPI20UZIR0U  1384719342   \n",
       "1  A14VAT5EAX3D9S  1384719342   \n",
       "2  A195EZSQDW3E21  1384719342   \n",
       "3  A2C00NNG1ZQQG2  1384719342   \n",
       "4   A94QU4C90B1AX  1384719342   \n",
       "\n",
       "                                       reviewerName   helpful  \\\n",
       "0  cassandra tu \"Yeah, well, that's just like, u...    [0, 0]   \n",
       "1                                              Jake  [13, 14]   \n",
       "2                     Rick Bennette \"Rick Bennette\"    [1, 1]   \n",
       "3                         RustyBill \"Sunday Rocker\"    [0, 0]   \n",
       "4                                     SEAN MASLANKA    [0, 0]   \n",
       "\n",
       "                                          reviewText  overall  \\\n",
       "0  Not much to write about here, but it does exac...        5   \n",
       "1  The product does exactly as it should and is q...        5   \n",
       "2  The primary job of this device is to block the...        3   \n",
       "3  Nice windscreen protects my MXL mic and preven...        5   \n",
       "4  This pop filter is great. It looks and perform...        5   \n",
       "\n",
       "                                 summary  unixReviewTime   reviewTime  \n",
       "0                                   good      1393545600  02 28, 2014  \n",
       "1                                   Jake      1363392000  03 16, 2013  \n",
       "2                   It Does The Job Well      1377648000  08 28, 2013  \n",
       "3          GOOD WINDSCREEN FOR THE MONEY      1392336000  02 14, 2014  \n",
       "4  No more pops when I record my vocals.      1392940800  02 21, 2014  "
      ]
     },
     "execution_count": 25,
     "metadata": {},
     "output_type": "execute_result"
    }
   ],
   "source": [
    "data = pd.read_csv('Musical_instruments_reviews.csv')\n",
    "data.head()\n"
   ]
  },
  {
   "cell_type": "markdown",
   "metadata": {},
   "source": [
    "### We are for now concerned with only 'reviewText' and 'overall' . So we will select only those in our dataframe."
   ]
  },
  {
   "cell_type": "code",
   "execution_count": 26,
   "metadata": {},
   "outputs": [
    {
     "data": {
      "text/html": [
       "<div>\n",
       "<style scoped>\n",
       "    .dataframe tbody tr th:only-of-type {\n",
       "        vertical-align: middle;\n",
       "    }\n",
       "\n",
       "    .dataframe tbody tr th {\n",
       "        vertical-align: top;\n",
       "    }\n",
       "\n",
       "    .dataframe thead th {\n",
       "        text-align: right;\n",
       "    }\n",
       "</style>\n",
       "<table border=\"1\" class=\"dataframe\">\n",
       "  <thead>\n",
       "    <tr style=\"text-align: right;\">\n",
       "      <th></th>\n",
       "      <th>overall</th>\n",
       "      <th>reviewText</th>\n",
       "    </tr>\n",
       "  </thead>\n",
       "  <tbody>\n",
       "    <tr>\n",
       "      <td>0</td>\n",
       "      <td>5</td>\n",
       "      <td>Not much to write about here, but it does exac...</td>\n",
       "    </tr>\n",
       "    <tr>\n",
       "      <td>1</td>\n",
       "      <td>5</td>\n",
       "      <td>The product does exactly as it should and is q...</td>\n",
       "    </tr>\n",
       "    <tr>\n",
       "      <td>2</td>\n",
       "      <td>3</td>\n",
       "      <td>The primary job of this device is to block the...</td>\n",
       "    </tr>\n",
       "    <tr>\n",
       "      <td>3</td>\n",
       "      <td>5</td>\n",
       "      <td>Nice windscreen protects my MXL mic and preven...</td>\n",
       "    </tr>\n",
       "    <tr>\n",
       "      <td>4</td>\n",
       "      <td>5</td>\n",
       "      <td>This pop filter is great. It looks and perform...</td>\n",
       "    </tr>\n",
       "    <tr>\n",
       "      <td>5</td>\n",
       "      <td>5</td>\n",
       "      <td>So good that I bought another one.  Love the h...</td>\n",
       "    </tr>\n",
       "    <tr>\n",
       "      <td>6</td>\n",
       "      <td>5</td>\n",
       "      <td>I have used monster cables for years, and with...</td>\n",
       "    </tr>\n",
       "    <tr>\n",
       "      <td>7</td>\n",
       "      <td>3</td>\n",
       "      <td>I now use this cable to run from the output of...</td>\n",
       "    </tr>\n",
       "    <tr>\n",
       "      <td>8</td>\n",
       "      <td>1</td>\n",
       "      <td>Perfect for my Epiphone Sheraton II.  Monster ...</td>\n",
       "    </tr>\n",
       "    <tr>\n",
       "      <td>9</td>\n",
       "      <td>5</td>\n",
       "      <td>Monster makes the best cables and a lifetime w...</td>\n",
       "    </tr>\n",
       "  </tbody>\n",
       "</table>\n",
       "</div>"
      ],
      "text/plain": [
       "   overall                                         reviewText\n",
       "0        5  Not much to write about here, but it does exac...\n",
       "1        5  The product does exactly as it should and is q...\n",
       "2        3  The primary job of this device is to block the...\n",
       "3        5  Nice windscreen protects my MXL mic and preven...\n",
       "4        5  This pop filter is great. It looks and perform...\n",
       "5        5  So good that I bought another one.  Love the h...\n",
       "6        5  I have used monster cables for years, and with...\n",
       "7        3  I now use this cable to run from the output of...\n",
       "8        1  Perfect for my Epiphone Sheraton II.  Monster ...\n",
       "9        5  Monster makes the best cables and a lifetime w..."
      ]
     },
     "execution_count": 26,
     "metadata": {},
     "output_type": "execute_result"
    }
   ],
   "source": [
    "#select the columns\n",
    "df2 = data.iloc[:, [5,4]]\n",
    "\n",
    "#split numerator and denominator\n",
    "\n",
    "# delete un-needed 'helpful catagory\n",
    "df2.head(10)"
   ]
  },
  {
   "cell_type": "markdown",
   "metadata": {},
   "source": [
    "#### Now the next step is to divide the overall score into 3 categories . If user have given less than 3 star we categorize it as negative , for 3 star neutral and for more than 3 we mark it as Positive."
   ]
  },
  {
   "cell_type": "code",
   "execution_count": 27,
   "metadata": {},
   "outputs": [
    {
     "data": {
      "text/html": [
       "<div>\n",
       "<style scoped>\n",
       "    .dataframe tbody tr th:only-of-type {\n",
       "        vertical-align: middle;\n",
       "    }\n",
       "\n",
       "    .dataframe tbody tr th {\n",
       "        vertical-align: top;\n",
       "    }\n",
       "\n",
       "    .dataframe thead th {\n",
       "        text-align: right;\n",
       "    }\n",
       "</style>\n",
       "<table border=\"1\" class=\"dataframe\">\n",
       "  <thead>\n",
       "    <tr style=\"text-align: right;\">\n",
       "      <th></th>\n",
       "      <th>overall</th>\n",
       "      <th>reviewText</th>\n",
       "      <th>User_Sentiment</th>\n",
       "    </tr>\n",
       "  </thead>\n",
       "  <tbody>\n",
       "    <tr>\n",
       "      <td>0</td>\n",
       "      <td>5</td>\n",
       "      <td>Not much to write about here, but it does exac...</td>\n",
       "      <td>Positive</td>\n",
       "    </tr>\n",
       "    <tr>\n",
       "      <td>1</td>\n",
       "      <td>5</td>\n",
       "      <td>The product does exactly as it should and is q...</td>\n",
       "      <td>Positive</td>\n",
       "    </tr>\n",
       "    <tr>\n",
       "      <td>2</td>\n",
       "      <td>3</td>\n",
       "      <td>The primary job of this device is to block the...</td>\n",
       "      <td>Neutral</td>\n",
       "    </tr>\n",
       "    <tr>\n",
       "      <td>3</td>\n",
       "      <td>5</td>\n",
       "      <td>Nice windscreen protects my MXL mic and preven...</td>\n",
       "      <td>Positive</td>\n",
       "    </tr>\n",
       "    <tr>\n",
       "      <td>4</td>\n",
       "      <td>5</td>\n",
       "      <td>This pop filter is great. It looks and perform...</td>\n",
       "      <td>Positive</td>\n",
       "    </tr>\n",
       "    <tr>\n",
       "      <td>5</td>\n",
       "      <td>5</td>\n",
       "      <td>So good that I bought another one.  Love the h...</td>\n",
       "      <td>Positive</td>\n",
       "    </tr>\n",
       "    <tr>\n",
       "      <td>6</td>\n",
       "      <td>5</td>\n",
       "      <td>I have used monster cables for years, and with...</td>\n",
       "      <td>Positive</td>\n",
       "    </tr>\n",
       "    <tr>\n",
       "      <td>7</td>\n",
       "      <td>3</td>\n",
       "      <td>I now use this cable to run from the output of...</td>\n",
       "      <td>Neutral</td>\n",
       "    </tr>\n",
       "    <tr>\n",
       "      <td>8</td>\n",
       "      <td>1</td>\n",
       "      <td>Perfect for my Epiphone Sheraton II.  Monster ...</td>\n",
       "      <td>Negative</td>\n",
       "    </tr>\n",
       "    <tr>\n",
       "      <td>9</td>\n",
       "      <td>5</td>\n",
       "      <td>Monster makes the best cables and a lifetime w...</td>\n",
       "      <td>Positive</td>\n",
       "    </tr>\n",
       "  </tbody>\n",
       "</table>\n",
       "</div>"
      ],
      "text/plain": [
       "   overall                                         reviewText User_Sentiment\n",
       "0        5  Not much to write about here, but it does exac...       Positive\n",
       "1        5  The product does exactly as it should and is q...       Positive\n",
       "2        3  The primary job of this device is to block the...        Neutral\n",
       "3        5  Nice windscreen protects my MXL mic and preven...       Positive\n",
       "4        5  This pop filter is great. It looks and perform...       Positive\n",
       "5        5  So good that I bought another one.  Love the h...       Positive\n",
       "6        5  I have used monster cables for years, and with...       Positive\n",
       "7        3  I now use this cable to run from the output of...        Neutral\n",
       "8        1  Perfect for my Epiphone Sheraton II.  Monster ...       Negative\n",
       "9        5  Monster makes the best cables and a lifetime w...       Positive"
      ]
     },
     "execution_count": 27,
     "metadata": {},
     "output_type": "execute_result"
    }
   ],
   "source": [
    "conditions = [\n",
    "    (df2['overall'] <= 2),\n",
    "    (df2['overall'] == 3),\n",
    "    (df2['overall'] > 3)\n",
    "    ]\n",
    "\n",
    "# create a list of the values we want to assign for each condition\n",
    "values = ['Negative', 'Neutral', 'Positive']\n",
    "\n",
    "# create a new column and use np.select to assign values to it using our lists as arguments\n",
    "df2['User_Sentiment'] = np.select(conditions, values)\n",
    "\n",
    "# display updated DataFrame\n",
    "df2.head(10)"
   ]
  },
  {
   "cell_type": "code",
   "execution_count": 28,
   "metadata": {},
   "outputs": [
    {
     "data": {
      "text/plain": [
       "Positive    9013\n",
       "Neutral      776\n",
       "Negative     472\n",
       "Name: User_Sentiment, dtype: int64"
      ]
     },
     "execution_count": 28,
     "metadata": {},
     "output_type": "execute_result"
    }
   ],
   "source": [
    "df2.User_Sentiment.value_counts()"
   ]
  },
  {
   "cell_type": "code",
   "execution_count": 29,
   "metadata": {},
   "outputs": [
    {
     "data": {
      "text/plain": [
       "Positive    9006\n",
       "Neutral      776\n",
       "Negative     472\n",
       "Name: User_Sentiment, dtype: int64"
      ]
     },
     "execution_count": 29,
     "metadata": {},
     "output_type": "execute_result"
    }
   ],
   "source": [
    "df2.dropna(\n",
    "    axis=0,\n",
    "    how='any',\n",
    "    thresh=None,\n",
    "    subset=None,\n",
    "    inplace=True\n",
    ")\n",
    "df2.User_Sentiment.value_counts()"
   ]
  },
  {
   "cell_type": "markdown",
   "metadata": {},
   "source": [
    "# Preprocessing :-\n",
    "> * Remove Punctuations\n",
    "> * Lower Casing\n",
    "> * Remove Stopwords\n",
    "> * Lemmatization"
   ]
  },
  {
   "cell_type": "code",
   "execution_count": 30,
   "metadata": {},
   "outputs": [
    {
     "data": {
      "text/plain": [
       "0    much write exactly supposed filter pop sound r...\n",
       "1    product exactly quite affordablei realized dou...\n",
       "2    primary job device block breath would otherwis...\n",
       "3    nice windscreen protects mxl mic prevents pop ...\n",
       "4    pop filter great look performs like studio fil...\n",
       "Name: reviewText, dtype: object"
      ]
     },
     "execution_count": 30,
     "metadata": {},
     "output_type": "execute_result"
    }
   ],
   "source": [
    "# Import libraries\n",
    "from nltk.corpus import stopwords\n",
    "from textblob import TextBlob\n",
    "from textblob import Word\n",
    "\n",
    "# Lower casing and removing punctuations\n",
    "df2['reviewText'] = df2['reviewText'].apply(lambda x: \" \".join(x.lower() for x in x.split()))\n",
    "df2['reviewText'] = df2['reviewText'].str.replace('[^\\w\\s]','')\n",
    "\n",
    "stop = stopwords.words('english')\n",
    "df2['reviewText'] = df2['reviewText'].apply(lambda x: \" \".join(x for x in x.split() if x not in stop))\n",
    "\n",
    "# Lemmatization\n",
    "\n",
    "df2['reviewText'] = df2['reviewText'].apply(lambda x: \" \".join([Word(word).lemmatize() for word in x.split()]))\n",
    "df2.reviewText.head(5)"
   ]
  },
  {
   "cell_type": "markdown",
   "metadata": {},
   "source": [
    "# Creating Model for Sentiment Analysis\n",
    "So there are 4 types of Sentiment Analysis :-\n",
    "> * Fine-Grained Sentiment\n",
    "> * Emotion Detection Sentiment\n",
    "> * Aspect Based\n",
    "> * Intent Analysis\n",
    "\n",
    "#### But in this Case , we are going with Aspect Based Analyzer because usually, when analyzing sentiments of texts, let’s say product reviews, you’ll want to know which particular aspects or features people are mentioning in a positive, neutral, or negative way. That's where aspect-based sentiment analysis can help, for example in this text: \"The battery life of this camera is too short\", an aspect-based classifier would be able to determine that the sentence expresses a negative opinion about the feature battery life.\n",
    "\n",
    "#### Various techniques and methodologies have been developed to address automatically identifying the sentiment expressed in the text. In this project, I’ll use TextBlob, a Python sentiment analysis library, to classify whether the reviews are positive, negative, or neutral.\n",
    "\n",
    "#### First, we’ll import the TextBlob function from textblob library. I’ll initialise the sentiment analyser from textblob, and then iterate over the 'reviewText' from the dataframe. I’ll then calculate whether the compound sentiment score is above or beneath the thresholds so that we can assign them with the positive, negative, or neutral label."
   ]
  },
  {
   "cell_type": "code",
   "execution_count": 31,
   "metadata": {},
   "outputs": [],
   "source": [
    "# Let's define our sentiment analyzer function:\n",
    "polarity_score =[]\n",
    "def analyze_sentiment(cleaned_verified_reviews):\n",
    "    analysis = TextBlob(cleaned_verified_reviews)\n",
    "    if analysis.sentiment.polarity > 0.2:\n",
    "        polarity_score.append(analysis.sentiment.polarity)\n",
    "        return 'Positive'\n",
    "    elif analysis.sentiment.polarity >= -0.2 and analysis.sentiment.polarity <= 0.2 :\n",
    "        polarity_score.append(analysis.sentiment.polarity)\n",
    "        return 'Neutral'\n",
    "    else:\n",
    "        polarity_score.append(analysis.sentiment.polarity)\n",
    "        return 'Negative'"
   ]
  },
  {
   "cell_type": "code",
   "execution_count": 32,
   "metadata": {},
   "outputs": [
    {
     "data": {
      "text/html": [
       "<div>\n",
       "<style scoped>\n",
       "    .dataframe tbody tr th:only-of-type {\n",
       "        vertical-align: middle;\n",
       "    }\n",
       "\n",
       "    .dataframe tbody tr th {\n",
       "        vertical-align: top;\n",
       "    }\n",
       "\n",
       "    .dataframe thead th {\n",
       "        text-align: right;\n",
       "    }\n",
       "</style>\n",
       "<table border=\"1\" class=\"dataframe\">\n",
       "  <thead>\n",
       "    <tr style=\"text-align: right;\">\n",
       "      <th></th>\n",
       "      <th>overall</th>\n",
       "      <th>reviewText</th>\n",
       "      <th>User_Sentiment</th>\n",
       "      <th>Review_Sentiment</th>\n",
       "      <th>Polarity_score</th>\n",
       "    </tr>\n",
       "  </thead>\n",
       "  <tbody>\n",
       "    <tr>\n",
       "      <td>0</td>\n",
       "      <td>5</td>\n",
       "      <td>much write exactly supposed filter pop sound r...</td>\n",
       "      <td>Positive</td>\n",
       "      <td>Positive</td>\n",
       "      <td>0.340000</td>\n",
       "    </tr>\n",
       "    <tr>\n",
       "      <td>1</td>\n",
       "      <td>5</td>\n",
       "      <td>product exactly quite affordablei realized dou...</td>\n",
       "      <td>Positive</td>\n",
       "      <td>Neutral</td>\n",
       "      <td>0.014286</td>\n",
       "    </tr>\n",
       "    <tr>\n",
       "      <td>2</td>\n",
       "      <td>3</td>\n",
       "      <td>primary job device block breath would otherwis...</td>\n",
       "      <td>Neutral</td>\n",
       "      <td>Neutral</td>\n",
       "      <td>0.167500</td>\n",
       "    </tr>\n",
       "    <tr>\n",
       "      <td>3</td>\n",
       "      <td>5</td>\n",
       "      <td>nice windscreen protects mxl mic prevents pop ...</td>\n",
       "      <td>Positive</td>\n",
       "      <td>Positive</td>\n",
       "      <td>0.333333</td>\n",
       "    </tr>\n",
       "    <tr>\n",
       "      <td>4</td>\n",
       "      <td>5</td>\n",
       "      <td>pop filter great look performs like studio fil...</td>\n",
       "      <td>Positive</td>\n",
       "      <td>Positive</td>\n",
       "      <td>0.800000</td>\n",
       "    </tr>\n",
       "  </tbody>\n",
       "</table>\n",
       "</div>"
      ],
      "text/plain": [
       "   overall                                         reviewText User_Sentiment  \\\n",
       "0        5  much write exactly supposed filter pop sound r...       Positive   \n",
       "1        5  product exactly quite affordablei realized dou...       Positive   \n",
       "2        3  primary job device block breath would otherwis...        Neutral   \n",
       "3        5  nice windscreen protects mxl mic prevents pop ...       Positive   \n",
       "4        5  pop filter great look performs like studio fil...       Positive   \n",
       "\n",
       "  Review_Sentiment  Polarity_score  \n",
       "0         Positive        0.340000  \n",
       "1          Neutral        0.014286  \n",
       "2          Neutral        0.167500  \n",
       "3         Positive        0.333333  \n",
       "4         Positive        0.800000  "
      ]
     },
     "execution_count": 32,
     "metadata": {},
     "output_type": "execute_result"
    }
   ],
   "source": [
    "df2['Review_Sentiment'] = df2['reviewText'].apply(lambda x: analyze_sentiment(x))\n",
    "df2['Polarity_score'] = polarity_score\n",
    "df2.head()\n"
   ]
  },
  {
   "cell_type": "code",
   "execution_count": 33,
   "metadata": {},
   "outputs": [
    {
     "data": {
      "text/plain": [
       "Positive    6143\n",
       "Neutral     3994\n",
       "Negative     117\n",
       "Name: Review_Sentiment, dtype: int64"
      ]
     },
     "execution_count": 33,
     "metadata": {},
     "output_type": "execute_result"
    }
   ],
   "source": [
    "df2.Review_Sentiment.value_counts()"
   ]
  },
  {
   "cell_type": "markdown",
   "metadata": {},
   "source": [
    "#### Now to be honest we are not concerned about the neutral reviews. In many cases we have seen user mentions couple of positive things about the product but is not fully satisified about the product and end up giving 3 stars as he dont want to mention negative things about it. But our model will rate it as Positive , so we dont want to contradict those reviews.\n",
    "\n",
    "#### Hence we are concerned only about those reviews which are termed as 'Positive' but are actually 'Negative' or vice-versa . So we are removing all those reviews which includes neutral in either of the column."
   ]
  },
  {
   "cell_type": "code",
   "execution_count": 34,
   "metadata": {},
   "outputs": [
    {
     "name": "stdout",
     "output_type": "stream",
     "text": [
      "(5951, 5)\n"
     ]
    },
    {
     "data": {
      "text/html": [
       "<div>\n",
       "<style scoped>\n",
       "    .dataframe tbody tr th:only-of-type {\n",
       "        vertical-align: middle;\n",
       "    }\n",
       "\n",
       "    .dataframe tbody tr th {\n",
       "        vertical-align: top;\n",
       "    }\n",
       "\n",
       "    .dataframe thead th {\n",
       "        text-align: right;\n",
       "    }\n",
       "</style>\n",
       "<table border=\"1\" class=\"dataframe\">\n",
       "  <thead>\n",
       "    <tr style=\"text-align: right;\">\n",
       "      <th></th>\n",
       "      <th>overall</th>\n",
       "      <th>reviewText</th>\n",
       "      <th>User_Sentiment</th>\n",
       "      <th>Review_Sentiment</th>\n",
       "      <th>Polarity_score</th>\n",
       "    </tr>\n",
       "  </thead>\n",
       "  <tbody>\n",
       "    <tr>\n",
       "      <td>0</td>\n",
       "      <td>5</td>\n",
       "      <td>much write exactly supposed filter pop sound r...</td>\n",
       "      <td>Positive</td>\n",
       "      <td>Positive</td>\n",
       "      <td>0.340000</td>\n",
       "    </tr>\n",
       "    <tr>\n",
       "      <td>3</td>\n",
       "      <td>5</td>\n",
       "      <td>nice windscreen protects mxl mic prevents pop ...</td>\n",
       "      <td>Positive</td>\n",
       "      <td>Positive</td>\n",
       "      <td>0.333333</td>\n",
       "    </tr>\n",
       "    <tr>\n",
       "      <td>4</td>\n",
       "      <td>5</td>\n",
       "      <td>pop filter great look performs like studio fil...</td>\n",
       "      <td>Positive</td>\n",
       "      <td>Positive</td>\n",
       "      <td>0.800000</td>\n",
       "    </tr>\n",
       "    <tr>\n",
       "      <td>5</td>\n",
       "      <td>5</td>\n",
       "      <td>good bought another one love heavy cord gold c...</td>\n",
       "      <td>Positive</td>\n",
       "      <td>Positive</td>\n",
       "      <td>0.305556</td>\n",
       "    </tr>\n",
       "    <tr>\n",
       "      <td>6</td>\n",
       "      <td>5</td>\n",
       "      <td>used monster cable year good reason lifetime w...</td>\n",
       "      <td>Positive</td>\n",
       "      <td>Positive</td>\n",
       "      <td>0.333333</td>\n",
       "    </tr>\n",
       "    <tr>\n",
       "      <td>8</td>\n",
       "      <td>1</td>\n",
       "      <td>perfect epiphone sheraton ii monster cable wel...</td>\n",
       "      <td>Negative</td>\n",
       "      <td>Positive</td>\n",
       "      <td>0.500000</td>\n",
       "    </tr>\n",
       "    <tr>\n",
       "      <td>9</td>\n",
       "      <td>5</td>\n",
       "      <td>monster make best cable lifetime warranty does...</td>\n",
       "      <td>Positive</td>\n",
       "      <td>Positive</td>\n",
       "      <td>0.330000</td>\n",
       "    </tr>\n",
       "    <tr>\n",
       "      <td>11</td>\n",
       "      <td>4</td>\n",
       "      <td>got needed found dont really need often rarely...</td>\n",
       "      <td>Positive</td>\n",
       "      <td>Positive</td>\n",
       "      <td>0.400000</td>\n",
       "    </tr>\n",
       "    <tr>\n",
       "      <td>13</td>\n",
       "      <td>2</td>\n",
       "      <td>love used yamaha ypt230 work great would recom...</td>\n",
       "      <td>Negative</td>\n",
       "      <td>Positive</td>\n",
       "      <td>0.650000</td>\n",
       "    </tr>\n",
       "    <tr>\n",
       "      <td>16</td>\n",
       "      <td>4</td>\n",
       "      <td>fender cable perfect length sometimes find bit...</td>\n",
       "      <td>Positive</td>\n",
       "      <td>Positive</td>\n",
       "      <td>0.361905</td>\n",
       "    </tr>\n",
       "  </tbody>\n",
       "</table>\n",
       "</div>"
      ],
      "text/plain": [
       "    overall                                         reviewText User_Sentiment  \\\n",
       "0         5  much write exactly supposed filter pop sound r...       Positive   \n",
       "3         5  nice windscreen protects mxl mic prevents pop ...       Positive   \n",
       "4         5  pop filter great look performs like studio fil...       Positive   \n",
       "5         5  good bought another one love heavy cord gold c...       Positive   \n",
       "6         5  used monster cable year good reason lifetime w...       Positive   \n",
       "8         1  perfect epiphone sheraton ii monster cable wel...       Negative   \n",
       "9         5  monster make best cable lifetime warranty does...       Positive   \n",
       "11        4  got needed found dont really need often rarely...       Positive   \n",
       "13        2  love used yamaha ypt230 work great would recom...       Negative   \n",
       "16        4  fender cable perfect length sometimes find bit...       Positive   \n",
       "\n",
       "   Review_Sentiment  Polarity_score  \n",
       "0          Positive        0.340000  \n",
       "3          Positive        0.333333  \n",
       "4          Positive        0.800000  \n",
       "5          Positive        0.305556  \n",
       "6          Positive        0.333333  \n",
       "8          Positive        0.500000  \n",
       "9          Positive        0.330000  \n",
       "11         Positive        0.400000  \n",
       "13         Positive        0.650000  \n",
       "16         Positive        0.361905  "
      ]
     },
     "execution_count": 34,
     "metadata": {},
     "output_type": "execute_result"
    }
   ],
   "source": [
    "df2 = df2[df2.User_Sentiment != 'Neutral']\n",
    "df2 = df2[df2.Review_Sentiment != 'Neutral']\n",
    "print(df2.shape)\n",
    "df2.head(10)"
   ]
  },
  {
   "cell_type": "markdown",
   "metadata": {},
   "source": [
    "#### So there were total 1024 neutral sentiments . Thus Removing them.\n",
    "\n",
    "#### So in the next cell we compare two columns , one 'User_Sentiments' rated by the user themselves and second 'Review_Sentiment' generated by our model by analysing user's reviews . Labelling it 'True' if they match concluding it as a genuine review where as labelling it 'False' if they dont match concluding it as a 'Sarcastic review' or 'not genuine'."
   ]
  },
  {
   "cell_type": "code",
   "execution_count": 35,
   "metadata": {},
   "outputs": [
    {
     "data": {
      "text/html": [
       "<div>\n",
       "<style scoped>\n",
       "    .dataframe tbody tr th:only-of-type {\n",
       "        vertical-align: middle;\n",
       "    }\n",
       "\n",
       "    .dataframe tbody tr th {\n",
       "        vertical-align: top;\n",
       "    }\n",
       "\n",
       "    .dataframe thead th {\n",
       "        text-align: right;\n",
       "    }\n",
       "</style>\n",
       "<table border=\"1\" class=\"dataframe\">\n",
       "  <thead>\n",
       "    <tr style=\"text-align: right;\">\n",
       "      <th></th>\n",
       "      <th>overall</th>\n",
       "      <th>reviewText</th>\n",
       "      <th>User_Sentiment</th>\n",
       "      <th>Review_Sentiment</th>\n",
       "      <th>Polarity_score</th>\n",
       "      <th>result</th>\n",
       "    </tr>\n",
       "  </thead>\n",
       "  <tbody>\n",
       "    <tr>\n",
       "      <td>0</td>\n",
       "      <td>5</td>\n",
       "      <td>much write exactly supposed filter pop sound r...</td>\n",
       "      <td>Positive</td>\n",
       "      <td>Positive</td>\n",
       "      <td>0.340000</td>\n",
       "      <td>True</td>\n",
       "    </tr>\n",
       "    <tr>\n",
       "      <td>3</td>\n",
       "      <td>5</td>\n",
       "      <td>nice windscreen protects mxl mic prevents pop ...</td>\n",
       "      <td>Positive</td>\n",
       "      <td>Positive</td>\n",
       "      <td>0.333333</td>\n",
       "      <td>True</td>\n",
       "    </tr>\n",
       "    <tr>\n",
       "      <td>4</td>\n",
       "      <td>5</td>\n",
       "      <td>pop filter great look performs like studio fil...</td>\n",
       "      <td>Positive</td>\n",
       "      <td>Positive</td>\n",
       "      <td>0.800000</td>\n",
       "      <td>True</td>\n",
       "    </tr>\n",
       "    <tr>\n",
       "      <td>5</td>\n",
       "      <td>5</td>\n",
       "      <td>good bought another one love heavy cord gold c...</td>\n",
       "      <td>Positive</td>\n",
       "      <td>Positive</td>\n",
       "      <td>0.305556</td>\n",
       "      <td>True</td>\n",
       "    </tr>\n",
       "    <tr>\n",
       "      <td>6</td>\n",
       "      <td>5</td>\n",
       "      <td>used monster cable year good reason lifetime w...</td>\n",
       "      <td>Positive</td>\n",
       "      <td>Positive</td>\n",
       "      <td>0.333333</td>\n",
       "      <td>True</td>\n",
       "    </tr>\n",
       "  </tbody>\n",
       "</table>\n",
       "</div>"
      ],
      "text/plain": [
       "   overall                                         reviewText User_Sentiment  \\\n",
       "0        5  much write exactly supposed filter pop sound r...       Positive   \n",
       "3        5  nice windscreen protects mxl mic prevents pop ...       Positive   \n",
       "4        5  pop filter great look performs like studio fil...       Positive   \n",
       "5        5  good bought another one love heavy cord gold c...       Positive   \n",
       "6        5  used monster cable year good reason lifetime w...       Positive   \n",
       "\n",
       "  Review_Sentiment  Polarity_score  result  \n",
       "0         Positive        0.340000    True  \n",
       "3         Positive        0.333333    True  \n",
       "4         Positive        0.800000    True  \n",
       "5         Positive        0.305556    True  \n",
       "6         Positive        0.333333    True  "
      ]
     },
     "execution_count": 35,
     "metadata": {},
     "output_type": "execute_result"
    }
   ],
   "source": [
    "comparison_column = np.where(df2[\"User_Sentiment\"] == df2[\"Review_Sentiment\"], True, False)\n",
    "df2[\"result\"] = comparison_column\n",
    "df2.head()"
   ]
  },
  {
   "cell_type": "code",
   "execution_count": 36,
   "metadata": {},
   "outputs": [
    {
     "name": "stdout",
     "output_type": "stream",
     "text": [
      "(210, 6)\n"
     ]
    },
    {
     "data": {
      "text/html": [
       "<div>\n",
       "<style scoped>\n",
       "    .dataframe tbody tr th:only-of-type {\n",
       "        vertical-align: middle;\n",
       "    }\n",
       "\n",
       "    .dataframe tbody tr th {\n",
       "        vertical-align: top;\n",
       "    }\n",
       "\n",
       "    .dataframe thead th {\n",
       "        text-align: right;\n",
       "    }\n",
       "</style>\n",
       "<table border=\"1\" class=\"dataframe\">\n",
       "  <thead>\n",
       "    <tr style=\"text-align: right;\">\n",
       "      <th></th>\n",
       "      <th>overall</th>\n",
       "      <th>reviewText</th>\n",
       "      <th>User_Sentiment</th>\n",
       "      <th>Review_Sentiment</th>\n",
       "      <th>Polarity_score</th>\n",
       "      <th>result</th>\n",
       "    </tr>\n",
       "  </thead>\n",
       "  <tbody>\n",
       "    <tr>\n",
       "      <td>8</td>\n",
       "      <td>1</td>\n",
       "      <td>perfect epiphone sheraton ii monster cable wel...</td>\n",
       "      <td>Negative</td>\n",
       "      <td>Positive</td>\n",
       "      <td>0.500000</td>\n",
       "      <td>False</td>\n",
       "    </tr>\n",
       "    <tr>\n",
       "      <td>13</td>\n",
       "      <td>2</td>\n",
       "      <td>love used yamaha ypt230 work great would recom...</td>\n",
       "      <td>Negative</td>\n",
       "      <td>Positive</td>\n",
       "      <td>0.650000</td>\n",
       "      <td>False</td>\n",
       "    </tr>\n",
       "    <tr>\n",
       "      <td>38</td>\n",
       "      <td>1</td>\n",
       "      <td>ive used lot cable always come back hosa indee...</td>\n",
       "      <td>Negative</td>\n",
       "      <td>Positive</td>\n",
       "      <td>0.500000</td>\n",
       "      <td>False</td>\n",
       "    </tr>\n",
       "    <tr>\n",
       "      <td>41</td>\n",
       "      <td>2</td>\n",
       "      <td>good quality cable sound good</td>\n",
       "      <td>Negative</td>\n",
       "      <td>Positive</td>\n",
       "      <td>0.600000</td>\n",
       "      <td>False</td>\n",
       "    </tr>\n",
       "    <tr>\n",
       "      <td>46</td>\n",
       "      <td>2</td>\n",
       "      <td>cheap good texture rubber get stiff time tell ...</td>\n",
       "      <td>Negative</td>\n",
       "      <td>Positive</td>\n",
       "      <td>0.340476</td>\n",
       "      <td>False</td>\n",
       "    </tr>\n",
       "  </tbody>\n",
       "</table>\n",
       "</div>"
      ],
      "text/plain": [
       "    overall                                         reviewText User_Sentiment  \\\n",
       "8         1  perfect epiphone sheraton ii monster cable wel...       Negative   \n",
       "13        2  love used yamaha ypt230 work great would recom...       Negative   \n",
       "38        1  ive used lot cable always come back hosa indee...       Negative   \n",
       "41        2                      good quality cable sound good       Negative   \n",
       "46        2  cheap good texture rubber get stiff time tell ...       Negative   \n",
       "\n",
       "   Review_Sentiment  Polarity_score  result  \n",
       "8          Positive        0.500000   False  \n",
       "13         Positive        0.650000   False  \n",
       "38         Positive        0.500000   False  \n",
       "41         Positive        0.600000   False  \n",
       "46         Positive        0.340476   False  "
      ]
     },
     "execution_count": 36,
     "metadata": {},
     "output_type": "execute_result"
    }
   ],
   "source": [
    "# Printing those results with 'Not Genuine' reviews ! \n",
    "df2 = df2[df2.result != True]\n",
    "print(df2.shape)\n",
    "df2.head()"
   ]
  },
  {
   "cell_type": "markdown",
   "metadata": {},
   "source": [
    "# Conclusion :- \n",
    "\n",
    "#### So we can clearly see 3rd review going as 'I love it , I used this for my Yamaha ypt-230 and it works great, I would recommend it to anyone' . User gave it a 2 star rating but clearly it is a positive review , Thus we need to filter them out as it can disturb overall ratings of that particular product and even new customers will be in a confused state."
   ]
  },
  {
   "cell_type": "markdown",
   "metadata": {},
   "source": [
    "# Reference\n",
    "\n",
    "> Inferring networks of substitutable and complementary products. J. McAuley, R. Pandey, J. Leskovec Knowledge Discovery and Data Mining, 2015.\n",
    "Image-based recommendations on styles and substitutes J. McAuley, C. Targett, J. Shi, A. van den Hengel SIGIR, 2015.\n",
    "\n",
    "> HUI BWU Y. Anti-spam model based on semi-Naive Bayesian classification model. Journal of Computer Applications. 2009;29(3):903-904.\n",
    "\n",
    "> Liaw A. Weiner M. Classification and Regression by randomForest. R News. 2002;Vol 2(2):18-22.\n",
    "\n",
    "> Casanova R, Saldana S, Chew EY, Danis RP, Greven CM, et al. (2014) Application of Random Forests Methods to Diabetic Retinopathy Classification Analyses. PLoS ONE 9(6): e98587. doi: 10.1371/journal.pone.0098587\n",
    "\n",
    "> Jones M. Viola A. Robust Real-Time Face Detection. International Journal of Computer Vision. 2004. pg 137–154. http://blog.echen.me/2011/04/27/choosing-a-machine-learning-classifier/\n",
    "\n",
    "> Lowri Williams : Sentiment Analysis: Aspect-Based Opinion Mining. https://towardsdatascience.com/%EF%B8%8F-sentiment-analysis-aspect-based-opinion-mining-72a75e8c8a6d"
   ]
  }
 ],
 "metadata": {
  "kernelspec": {
   "display_name": "Python 3",
   "language": "python",
   "name": "python3"
  },
  "language_info": {
   "codemirror_mode": {
    "name": "ipython",
    "version": 3
   },
   "file_extension": ".py",
   "mimetype": "text/x-python",
   "name": "python",
   "nbconvert_exporter": "python",
   "pygments_lexer": "ipython3",
   "version": "3.6.8"
  }
 },
 "nbformat": 4,
 "nbformat_minor": 4
}
